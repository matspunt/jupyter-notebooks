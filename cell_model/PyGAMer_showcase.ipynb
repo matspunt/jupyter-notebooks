{
 "cells": [
  {
   "cell_type": "markdown",
   "id": "23c8e7a6",
   "metadata": {},
   "source": [
    "## GAMer 2 is a rewrite of the GAMer software (last update - August 2021) \n",
    "In this paper, we describe the use of our recently rewritten mesh processing software, GAMer 2, to bridge the gap between poorly conditioned meshes generated from segmented micrographs and boundary marked tetrahedral meshes which are compatible with simulation. We demonstrate the application of a workflow using GAMer 2 to a series of electron micrographs of neuronal dendrite morphology explored at three different length scales and show that the resulting meshes are suitable for finite element simulations. This work is an important step towards making physical simulations of biological processes in realistic geometries routine.\n",
    "\n",
    "#### The code can be compiled as a C++ library, or is accessible to a reasonably fast Python wrapper which is showcased in this notebook \n",
    "https://gamer.readthedocs.io/en/latest/algorithms.html"
   ]
  },
  {
   "cell_type": "code",
   "execution_count": 11,
   "id": "732af572",
   "metadata": {
    "ExecuteTime": {
     "end_time": "2023-05-17T08:53:44.414809Z",
     "start_time": "2023-05-17T08:53:44.410430Z"
    }
   },
   "outputs": [],
   "source": [
    "import openmesh as om"
   ]
  },
  {
   "cell_type": "code",
   "execution_count": 12,
   "id": "0563a2e8",
   "metadata": {
    "ExecuteTime": {
     "end_time": "2023-05-17T08:53:49.536766Z",
     "start_time": "2023-05-17T08:53:49.392532Z"
    }
   },
   "outputs": [
    {
     "ename": "AttributeError",
     "evalue": "type object 'DataImage' has no attribute '_instance_inits'",
     "output_type": "error",
     "traceback": [
      "\u001b[0;31m---------------------------------------------------------------------------\u001b[0m",
      "\u001b[0;31mAttributeError\u001b[0m                            Traceback (most recent call last)",
      "Cell \u001b[0;32mIn [12], line 1\u001b[0m\n\u001b[0;32m----> 1\u001b[0m \u001b[38;5;28;01mimport\u001b[39;00m \u001b[38;5;21;01mthreevis\u001b[39;00m \u001b[38;5;28;01mas\u001b[39;00m \u001b[38;5;21;01mtv\u001b[39;00m\n",
      "File \u001b[0;32m~/.conda/envs/jupyter/lib/python3.10/site-packages/threevis/__init__.py:4\u001b[0m\n\u001b[1;32m      1\u001b[0m \u001b[38;5;28;01mfrom\u001b[39;00m \u001b[38;5;21;01m__future__\u001b[39;00m \u001b[38;5;28;01mimport\u001b[39;00m print_function\n\u001b[1;32m      3\u001b[0m \u001b[38;5;28;01mtry\u001b[39;00m:\n\u001b[0;32m----> 4\u001b[0m     \u001b[38;5;28;01mfrom\u001b[39;00m \u001b[38;5;21;01m.\u001b[39;00m\u001b[38;5;21;01mopenmesh_utils\u001b[39;00m \u001b[38;5;28;01mimport\u001b[39;00m \u001b[38;5;241m*\u001b[39m\n\u001b[1;32m      5\u001b[0m \u001b[38;5;28;01mexcept\u001b[39;00m \u001b[38;5;167;01mImportError\u001b[39;00m \u001b[38;5;28;01mas\u001b[39;00m error:\n\u001b[1;32m      6\u001b[0m     \u001b[38;5;28mprint\u001b[39m(\u001b[38;5;124m'\u001b[39m\u001b[38;5;124mOpenMesh not available\u001b[39m\u001b[38;5;124m'\u001b[39m)\n",
      "File \u001b[0;32m~/.conda/envs/jupyter/lib/python3.10/site-packages/threevis/openmesh_utils.py:3\u001b[0m\n\u001b[1;32m      2\u001b[0m \u001b[38;5;28;01mimport\u001b[39;00m \u001b[38;5;21;01mopenmesh\u001b[39;00m \u001b[38;5;28;01mas\u001b[39;00m \u001b[38;5;21;01mom\u001b[39;00m\n\u001b[0;32m----> 3\u001b[0m \u001b[38;5;28;01mfrom\u001b[39;00m \u001b[38;5;21;01m.\u001b[39;00m\u001b[38;5;21;01mimmediate\u001b[39;00m \u001b[38;5;28;01mimport\u001b[39;00m display_faces\n\u001b[1;32m      5\u001b[0m \u001b[38;5;28;01mdef\u001b[39;00m \u001b[38;5;21mdisplay_openmesh\u001b[39m(mesh):\n\u001b[1;32m      6\u001b[0m     display_faces(mesh\u001b[38;5;241m.\u001b[39mpoints(), mesh\u001b[38;5;241m.\u001b[39mface_vertex_indices())\n",
      "File \u001b[0;32m~/.conda/envs/jupyter/lib/python3.10/site-packages/threevis/immediate.py:5\u001b[0m\n\u001b[1;32m      1\u001b[0m \u001b[38;5;124;03m\"\"\"\u001b[39;00m\n\u001b[1;32m      2\u001b[0m \u001b[38;5;124;03mImmediate drawing without explicitely creating a context.\u001b[39;00m\n\u001b[1;32m      3\u001b[0m \u001b[38;5;124;03m\"\"\"\u001b[39;00m\n\u001b[0;32m----> 5\u001b[0m \u001b[38;5;28;01mfrom\u001b[39;00m \u001b[38;5;21;01m.\u001b[39;00m\u001b[38;5;21;01mcontext\u001b[39;00m \u001b[38;5;28;01mimport\u001b[39;00m Context\n\u001b[1;32m      7\u001b[0m \u001b[38;5;28;01mdef\u001b[39;00m \u001b[38;5;21mdisplay_faces\u001b[39m(vertices, face_indices, normals\u001b[38;5;241m=\u001b[39m\u001b[38;5;28;01mNone\u001b[39;00m, colors\u001b[38;5;241m=\u001b[39m\u001b[38;5;28;01mNone\u001b[39;00m, uvs\u001b[38;5;241m=\u001b[39m\u001b[38;5;28;01mNone\u001b[39;00m,\n\u001b[1;32m      8\u001b[0m                   shading\u001b[38;5;241m=\u001b[39m\u001b[38;5;124m'\u001b[39m\u001b[38;5;124mflat\u001b[39m\u001b[38;5;124m'\u001b[39m, z_offset\u001b[38;5;241m=\u001b[39m\u001b[38;5;241m0.5\u001b[39m, texture\u001b[38;5;241m=\u001b[39m\u001b[38;5;28;01mNone\u001b[39;00m, width\u001b[38;5;241m=\u001b[39m\u001b[38;5;241m600\u001b[39m, height\u001b[38;5;241m=\u001b[39m\u001b[38;5;241m400\u001b[39m,\n\u001b[1;32m      9\u001b[0m                   background_color \u001b[38;5;241m=\u001b[39m \u001b[38;5;124m'\u001b[39m\u001b[38;5;124m#dddddd\u001b[39m\u001b[38;5;124m'\u001b[39m, clipping_planes \u001b[38;5;241m=\u001b[39m [], show_bounds \u001b[38;5;241m=\u001b[39m \u001b[38;5;28;01mFalse\u001b[39;00m):\n\u001b[1;32m     10\u001b[0m     Context(width, height, background_color)\u001b[38;5;241m.\u001b[39mdraw_faces(vertices, face_indices, normals, colors, uvs, shading, z_offset, texture, clipping_planes)\u001b[38;5;241m.\u001b[39mset_bounds(show_bounds)\u001b[38;5;241m.\u001b[39mdisplay()\n",
      "File \u001b[0;32m~/.conda/envs/jupyter/lib/python3.10/site-packages/threevis/context.py:1\u001b[0m\n\u001b[0;32m----> 1\u001b[0m \u001b[38;5;28;01mimport\u001b[39;00m \u001b[38;5;21;01mpythreejs\u001b[39;00m \u001b[38;5;28;01mas\u001b[39;00m \u001b[38;5;21;01mthree\u001b[39;00m\n\u001b[1;32m      2\u001b[0m \u001b[38;5;28;01mimport\u001b[39;00m \u001b[38;5;21;01mnumpy\u001b[39;00m \u001b[38;5;28;01mas\u001b[39;00m \u001b[38;5;21;01mnp\u001b[39;00m\n\u001b[1;32m      3\u001b[0m \u001b[38;5;28;01mfrom\u001b[39;00m \u001b[38;5;21;01mipywidgets\u001b[39;00m \u001b[38;5;28;01mimport\u001b[39;00m HTML, Text\n",
      "File \u001b[0;32m~/.conda/envs/jupyter/lib/python3.10/site-packages/pythreejs/__init__.py:6\u001b[0m\n\u001b[1;32m      1\u001b[0m \u001b[38;5;66;03m#\u001b[39;00m\n\u001b[1;32m      2\u001b[0m \u001b[38;5;66;03m# This file automatically generated by \u001b[39;00m\n\u001b[1;32m      3\u001b[0m \u001b[38;5;66;03m#\u001b[39;00m\n\u001b[1;32m      5\u001b[0m \u001b[38;5;28;01mfrom\u001b[39;00m \u001b[38;5;21;01m.\u001b[39;00m\u001b[38;5;21;01menums\u001b[39;00m \u001b[38;5;28;01mimport\u001b[39;00m \u001b[38;5;241m*\u001b[39m\n\u001b[0;32m----> 6\u001b[0m \u001b[38;5;28;01mfrom\u001b[39;00m \u001b[38;5;21;01m.\u001b[39;00m\u001b[38;5;21;01mpythreejs\u001b[39;00m \u001b[38;5;28;01mimport\u001b[39;00m \u001b[38;5;241m*\u001b[39m\n\u001b[1;32m      7\u001b[0m \u001b[38;5;28;01mfrom\u001b[39;00m \u001b[38;5;21;01m.\u001b[39;00m\u001b[38;5;21;01mtraits\u001b[39;00m \u001b[38;5;28;01mimport\u001b[39;00m \u001b[38;5;241m*\u001b[39m\n\u001b[1;32m      8\u001b[0m \u001b[38;5;28;01mfrom\u001b[39;00m \u001b[38;5;21;01m.\u001b[39;00m\u001b[38;5;21;01m_example_helper\u001b[39;00m \u001b[38;5;28;01mimport\u001b[39;00m \u001b[38;5;241m*\u001b[39m\n",
      "File \u001b[0;32m~/.conda/envs/jupyter/lib/python3.10/site-packages/pythreejs/pythreejs.py:20\u001b[0m\n\u001b[1;32m     16\u001b[0m \u001b[38;5;28;01mfrom\u001b[39;00m \u001b[38;5;21;01m.\u001b[39;00m\u001b[38;5;21;01m_package\u001b[39;00m \u001b[38;5;28;01mimport\u001b[39;00m npm_pkg_name\n\u001b[1;32m     17\u001b[0m \u001b[38;5;28;01mfrom\u001b[39;00m \u001b[38;5;21;01m.\u001b[39;00m\u001b[38;5;21;01m_version\u001b[39;00m \u001b[38;5;28;01mimport\u001b[39;00m EXTENSION_SPEC_VERSION\n\u001b[0;32m---> 20\u001b[0m \u001b[38;5;28;01mfrom\u001b[39;00m \u001b[38;5;21;01m.\u001b[39;00m\u001b[38;5;21;01mcore\u001b[39;00m\u001b[38;5;21;01m.\u001b[39;00m\u001b[38;5;21;01mBufferAttribute\u001b[39;00m \u001b[38;5;28;01mimport\u001b[39;00m BufferAttribute\n\u001b[1;32m     21\u001b[0m \u001b[38;5;28;01mfrom\u001b[39;00m \u001b[38;5;21;01m.\u001b[39;00m\u001b[38;5;21;01mcore\u001b[39;00m\u001b[38;5;21;01m.\u001b[39;00m\u001b[38;5;21;01mGeometry\u001b[39;00m \u001b[38;5;28;01mimport\u001b[39;00m Geometry\n\u001b[1;32m     22\u001b[0m \u001b[38;5;28;01mfrom\u001b[39;00m \u001b[38;5;21;01m.\u001b[39;00m\u001b[38;5;21;01mcore\u001b[39;00m\u001b[38;5;21;01m.\u001b[39;00m\u001b[38;5;21;01mBufferGeometry\u001b[39;00m \u001b[38;5;28;01mimport\u001b[39;00m BufferGeometry\n",
      "File \u001b[0;32m~/.conda/envs/jupyter/lib/python3.10/site-packages/pythreejs/core/BufferAttribute.py:4\u001b[0m\n\u001b[1;32m      1\u001b[0m \u001b[38;5;28;01mfrom\u001b[39;00m \u001b[38;5;21;01mipywidgets\u001b[39;00m \u001b[38;5;28;01mimport\u001b[39;00m register\n\u001b[1;32m      3\u001b[0m \u001b[38;5;28;01mfrom\u001b[39;00m \u001b[38;5;21;01m.\u001b[39;00m\u001b[38;5;21;01m.\u001b[39;00m\u001b[38;5;21;01m_base\u001b[39;00m\u001b[38;5;21;01m.\u001b[39;00m\u001b[38;5;21;01mThree\u001b[39;00m \u001b[38;5;28;01mimport\u001b[39;00m ThreeWidget\n\u001b[0;32m----> 4\u001b[0m \u001b[38;5;28;01mfrom\u001b[39;00m \u001b[38;5;21;01m.\u001b[39;00m\u001b[38;5;21;01mBufferAttribute_autogen\u001b[39;00m \u001b[38;5;28;01mimport\u001b[39;00m BufferAttribute \u001b[38;5;28;01mas\u001b[39;00m BaseBufferAttribute\n\u001b[1;32m      7\u001b[0m \u001b[38;5;129m@register\u001b[39m\n\u001b[1;32m      8\u001b[0m \u001b[38;5;28;01mclass\u001b[39;00m \u001b[38;5;21;01mBufferAttribute\u001b[39;00m(BaseBufferAttribute):\n\u001b[1;32m     10\u001b[0m     _previewable \u001b[38;5;241m=\u001b[39m \u001b[38;5;28;01mFalse\u001b[39;00m\n",
      "File \u001b[0;32m~/.conda/envs/jupyter/lib/python3.10/site-packages/pythreejs/core/BufferAttribute_autogen.py:13\u001b[0m\n\u001b[1;32m     11\u001b[0m \u001b[38;5;28;01mfrom\u001b[39;00m \u001b[38;5;21;01m.\u001b[39;00m\u001b[38;5;21;01m.\u001b[39;00m\u001b[38;5;21;01m_base\u001b[39;00m\u001b[38;5;21;01m.\u001b[39;00m\u001b[38;5;21;01muniforms\u001b[39;00m \u001b[38;5;28;01mimport\u001b[39;00m uniforms_serialization\n\u001b[1;32m     12\u001b[0m \u001b[38;5;28;01mfrom\u001b[39;00m \u001b[38;5;21;01m.\u001b[39;00m\u001b[38;5;21;01m.\u001b[39;00m\u001b[38;5;21;01menums\u001b[39;00m \u001b[38;5;28;01mimport\u001b[39;00m \u001b[38;5;241m*\u001b[39m\n\u001b[0;32m---> 13\u001b[0m \u001b[38;5;28;01mfrom\u001b[39;00m \u001b[38;5;21;01m.\u001b[39;00m\u001b[38;5;21;01m.\u001b[39;00m\u001b[38;5;21;01mtraits\u001b[39;00m \u001b[38;5;28;01mimport\u001b[39;00m \u001b[38;5;241m*\u001b[39m\n\u001b[1;32m     15\u001b[0m \u001b[38;5;28;01mfrom\u001b[39;00m \u001b[38;5;21;01m.\u001b[39;00m\u001b[38;5;21;01m.\u001b[39;00m\u001b[38;5;21;01m_base\u001b[39;00m\u001b[38;5;21;01m.\u001b[39;00m\u001b[38;5;21;01mThree\u001b[39;00m \u001b[38;5;28;01mimport\u001b[39;00m ThreeWidget\n\u001b[1;32m     18\u001b[0m \u001b[38;5;28;01mclass\u001b[39;00m \u001b[38;5;21;01mBufferAttribute\u001b[39;00m(ThreeWidget):\n",
      "File \u001b[0;32m~/.conda/envs/jupyter/lib/python3.10/site-packages/pythreejs/traits.py:18\u001b[0m\n\u001b[1;32m     11\u001b[0m \u001b[38;5;28;01mfrom\u001b[39;00m \u001b[38;5;21;01mtraitlets\u001b[39;00m \u001b[38;5;28;01mimport\u001b[39;00m (\n\u001b[1;32m     12\u001b[0m     Unicode, Int, CInt, Instance, Enum, List, Dict, Float, CFloat,\n\u001b[1;32m     13\u001b[0m     Bool, Tuple, Undefined, TraitError, Union, TraitType, CaselessStrEnum\n\u001b[1;32m     14\u001b[0m )\n\u001b[1;32m     16\u001b[0m \u001b[38;5;28;01mfrom\u001b[39;00m \u001b[38;5;21;01mipywidgets\u001b[39;00m \u001b[38;5;28;01mimport\u001b[39;00m widget_serialization\n\u001b[0;32m---> 18\u001b[0m \u001b[38;5;28;01mfrom\u001b[39;00m \u001b[38;5;21;01mipydatawidgets\u001b[39;00m \u001b[38;5;28;01mimport\u001b[39;00m DataUnion, NDArrayWidget, shape_constraints\n\u001b[1;32m     20\u001b[0m \u001b[38;5;28;01mimport\u001b[39;00m \u001b[38;5;21;01mnumpy\u001b[39;00m \u001b[38;5;28;01mas\u001b[39;00m \u001b[38;5;21;01mnp\u001b[39;00m\n\u001b[1;32m     23\u001b[0m \u001b[38;5;28;01mdef\u001b[39;00m \u001b[38;5;21m_castable_namedtuple\u001b[39m(typename, field_names):\n",
      "File \u001b[0;32m~/.conda/envs/jupyter/lib/python3.10/site-packages/ipydatawidgets/__init__.py:7\u001b[0m\n\u001b[1;32m      1\u001b[0m \u001b[38;5;66;03m#!/usr/bin/env python\u001b[39;00m\n\u001b[1;32m      2\u001b[0m \u001b[38;5;66;03m# coding: utf-8\u001b[39;00m\n\u001b[1;32m      3\u001b[0m \n\u001b[1;32m      4\u001b[0m \u001b[38;5;66;03m# Copyright (c) Jupyter Development Team.\u001b[39;00m\n\u001b[1;32m      5\u001b[0m \u001b[38;5;66;03m# Distributed under the terms of the Modified BSD License.\u001b[39;00m\n\u001b[0;32m----> 7\u001b[0m \u001b[38;5;28;01mfrom\u001b[39;00m \u001b[38;5;21;01m.\u001b[39;00m\u001b[38;5;21;01mndarray\u001b[39;00m \u001b[38;5;28;01mimport\u001b[39;00m \u001b[38;5;241m*\u001b[39m\n\u001b[1;32m      8\u001b[0m \u001b[38;5;28;01mfrom\u001b[39;00m \u001b[38;5;21;01m.\u001b[39;00m\u001b[38;5;21;01mwidgets\u001b[39;00m \u001b[38;5;28;01mimport\u001b[39;00m DataWidget\n\u001b[1;32m      9\u001b[0m \u001b[38;5;28;01mfrom\u001b[39;00m \u001b[38;5;21;01m.\u001b[39;00m\u001b[38;5;21;01m_version\u001b[39;00m \u001b[38;5;28;01mimport\u001b[39;00m __version__, version_info\n",
      "File \u001b[0;32m~/.conda/envs/jupyter/lib/python3.10/site-packages/ipydatawidgets/ndarray/__init__.py:7\u001b[0m\n\u001b[1;32m      1\u001b[0m \u001b[38;5;66;03m#!/usr/bin/env python\u001b[39;00m\n\u001b[1;32m      2\u001b[0m \u001b[38;5;66;03m# coding: utf-8\u001b[39;00m\n\u001b[1;32m      3\u001b[0m \n\u001b[1;32m      4\u001b[0m \u001b[38;5;66;03m# Copyright (c) Jupyter Development Team.\u001b[39;00m\n\u001b[1;32m      5\u001b[0m \u001b[38;5;66;03m# Distributed under the terms of the Modified BSD License.\u001b[39;00m\n\u001b[0;32m----> 7\u001b[0m \u001b[38;5;28;01mfrom\u001b[39;00m \u001b[38;5;21;01m.\u001b[39;00m\u001b[38;5;21;01mmedia\u001b[39;00m \u001b[38;5;28;01mimport\u001b[39;00m DataImage\n\u001b[1;32m      8\u001b[0m \u001b[38;5;28;01mfrom\u001b[39;00m \u001b[38;5;21;01m.\u001b[39;00m\u001b[38;5;21;01mserializers\u001b[39;00m \u001b[38;5;28;01mimport\u001b[39;00m array_serialization, data_union_serialization\n\u001b[1;32m      9\u001b[0m \u001b[38;5;28;01mfrom\u001b[39;00m \u001b[38;5;21;01m.\u001b[39;00m\u001b[38;5;21;01mtraits\u001b[39;00m \u001b[38;5;28;01mimport\u001b[39;00m NDArray, shape_constraints\n",
      "File \u001b[0;32m~/.conda/envs/jupyter/lib/python3.10/site-packages/ipydatawidgets/ndarray/media.py:17\u001b[0m\n\u001b[1;32m     13\u001b[0m \u001b[38;5;28;01mfrom\u001b[39;00m \u001b[38;5;21;01m.\u001b[39;00m\u001b[38;5;21;01munion\u001b[39;00m \u001b[38;5;28;01mimport\u001b[39;00m DataUnion, data_union_serialization\n\u001b[1;32m     14\u001b[0m \u001b[38;5;28;01mfrom\u001b[39;00m \u001b[38;5;21;01m.\u001b[39;00m\u001b[38;5;21;01mtraits\u001b[39;00m \u001b[38;5;28;01mimport\u001b[39;00m shape_constraints\n\u001b[0;32m---> 17\u001b[0m \u001b[38;5;28;01mclass\u001b[39;00m \u001b[38;5;21;01mDataImage\u001b[39;00m(DataWidget, DOMWidget):\n\u001b[1;32m     18\u001b[0m     \u001b[38;5;124;03m\"\"\"A data-widgets based Image widget.\u001b[39;00m\n\u001b[1;32m     19\u001b[0m \u001b[38;5;124;03m    \"\"\"\u001b[39;00m\n\u001b[1;32m     20\u001b[0m     _model_name \u001b[38;5;241m=\u001b[39m Unicode(\u001b[38;5;124m'\u001b[39m\u001b[38;5;124mDataImageModel\u001b[39m\u001b[38;5;124m'\u001b[39m)\u001b[38;5;241m.\u001b[39mtag(sync\u001b[38;5;241m=\u001b[39m\u001b[38;5;28;01mTrue\u001b[39;00m)\n",
      "File \u001b[0;32m~/.conda/envs/jupyter/lib/python3.10/site-packages/traitlets/traitlets.py:807\u001b[0m, in \u001b[0;36mMetaHasDescriptors.__init__\u001b[0;34m(cls, name, bases, classdict)\u001b[0m\n\u001b[1;32m    805\u001b[0m \u001b[38;5;124;03m\"\"\"Finish initializing the HasDescriptors class.\"\"\"\u001b[39;00m\n\u001b[1;32m    806\u001b[0m \u001b[38;5;28msuper\u001b[39m(MetaHasDescriptors, \u001b[38;5;28mcls\u001b[39m)\u001b[38;5;241m.\u001b[39m\u001b[38;5;21m__init__\u001b[39m(name, bases, classdict)\n\u001b[0;32m--> 807\u001b[0m \u001b[38;5;28;43mcls\u001b[39;49m\u001b[38;5;241;43m.\u001b[39;49m\u001b[43msetup_class\u001b[49m\u001b[43m(\u001b[49m\u001b[43mclassdict\u001b[49m\u001b[43m)\u001b[49m\n",
      "File \u001b[0;32m~/.conda/envs/jupyter/lib/python3.10/site-packages/traitlets/traitlets.py:830\u001b[0m, in \u001b[0;36mMetaHasTraits.setup_class\u001b[0;34m(cls, classdict)\u001b[0m\n\u001b[1;32m    828\u001b[0m \u001b[38;5;28;01mdef\u001b[39;00m \u001b[38;5;21msetup_class\u001b[39m(\u001b[38;5;28mcls\u001b[39m, classdict):\n\u001b[1;32m    829\u001b[0m     \u001b[38;5;28mcls\u001b[39m\u001b[38;5;241m.\u001b[39m_trait_default_generators \u001b[38;5;241m=\u001b[39m {}\n\u001b[0;32m--> 830\u001b[0m     \u001b[38;5;28;43msuper\u001b[39;49m\u001b[43m(\u001b[49m\u001b[43mMetaHasTraits\u001b[49m\u001b[43m,\u001b[49m\u001b[43m \u001b[49m\u001b[38;5;28;43mcls\u001b[39;49m\u001b[43m)\u001b[49m\u001b[38;5;241;43m.\u001b[39;49m\u001b[43msetup_class\u001b[49m\u001b[43m(\u001b[49m\u001b[43mclassdict\u001b[49m\u001b[43m)\u001b[49m\n",
      "File \u001b[0;32m~/.conda/envs/jupyter/lib/python3.10/site-packages/traitlets/traitlets.py:822\u001b[0m, in \u001b[0;36mMetaHasDescriptors.setup_class\u001b[0;34m(cls, classdict)\u001b[0m\n\u001b[1;32m    820\u001b[0m \u001b[38;5;28;01mfor\u001b[39;00m k, v \u001b[38;5;129;01min\u001b[39;00m getmembers(\u001b[38;5;28mcls\u001b[39m):\n\u001b[1;32m    821\u001b[0m     \u001b[38;5;28;01mif\u001b[39;00m \u001b[38;5;28misinstance\u001b[39m(v, BaseDescriptor):\n\u001b[0;32m--> 822\u001b[0m         \u001b[43mv\u001b[49m\u001b[38;5;241;43m.\u001b[39;49m\u001b[43msubclass_init\u001b[49m\u001b[43m(\u001b[49m\u001b[38;5;28;43mcls\u001b[39;49m\u001b[43m)\u001b[49m\n",
      "File \u001b[0;32m~/.conda/envs/jupyter/lib/python3.10/site-packages/ipydatawidgets/ndarray/union.py:59\u001b[0m, in \u001b[0;36mDataUnion.subclass_init\u001b[0;34m(self, cls)\u001b[0m\n\u001b[1;32m     58\u001b[0m \u001b[38;5;28;01mdef\u001b[39;00m \u001b[38;5;21msubclass_init\u001b[39m(\u001b[38;5;28mself\u001b[39m, \u001b[38;5;28mcls\u001b[39m):\n\u001b[0;32m---> 59\u001b[0m     \u001b[38;5;28;43mcls\u001b[39;49m\u001b[38;5;241;43m.\u001b[39;49m\u001b[43m_instance_inits\u001b[49m\u001b[38;5;241m.\u001b[39mappend(\u001b[38;5;28mself\u001b[39m\u001b[38;5;241m.\u001b[39minstance_init)\n\u001b[1;32m     60\u001b[0m     \u001b[38;5;28;01mreturn\u001b[39;00m \u001b[38;5;28msuper\u001b[39m()\u001b[38;5;241m.\u001b[39msubclass_init(\u001b[38;5;28mcls\u001b[39m)\n",
      "\u001b[0;31mAttributeError\u001b[0m: type object 'DataImage' has no attribute '_instance_inits'"
     ]
    }
   ],
   "source": [
    "import threevis as tv"
   ]
  },
  {
   "cell_type": "code",
   "execution_count": null,
   "id": "eb397fb9",
   "metadata": {},
   "outputs": [],
   "source": []
  }
 ],
 "metadata": {
  "kernelspec": {
   "display_name": "Python [conda env:.conda-jupyter] *",
   "language": "python",
   "name": "conda-env-.conda-jupyter-py"
  },
  "language_info": {
   "codemirror_mode": {
    "name": "ipython",
    "version": 3
   },
   "file_extension": ".py",
   "mimetype": "text/x-python",
   "name": "python",
   "nbconvert_exporter": "python",
   "pygments_lexer": "ipython3",
   "version": "3.10.8"
  }
 },
 "nbformat": 4,
 "nbformat_minor": 5
}
