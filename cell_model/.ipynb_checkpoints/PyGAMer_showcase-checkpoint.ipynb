{
 "cells": [
  {
   "cell_type": "markdown",
   "id": "ab948acc",
   "metadata": {},
   "source": [
    "## GAMer 2 is a rewrite of the GAMer software (last update - August 2021) \n",
    "In this paper, we describe the use of our recently rewritten mesh processing software, GAMer 2, to bridge the gap between poorly conditioned meshes generated from segmented micrographs and boundary marked tetrahedral meshes which are compatible with simulation. We demonstrate the application of a workflow using GAMer 2 to a series of electron micrographs of neuronal dendrite morphology explored at three different length scales and show that the resulting meshes are suitable for finite element simulations. This work is an important step towards making physical simulations of biological processes in realistic geometries routine.\n",
    "\n",
    "#### The code can be compiled as a C++ library, or is accessible to a reasonably fast Python wrapper which is showcased in this notebook \n",
    "https://gamer.readthedocs.io/en/latest/algorithms.html"
   ]
  },
  {
   "cell_type": "code",
   "execution_count": null,
   "id": "3f462677",
   "metadata": {},
   "outputs": [],
   "source": []
  }
 ],
 "metadata": {
  "kernelspec": {
   "display_name": "Python [conda env:.conda-jupyter] *",
   "language": "python",
   "name": "conda-env-.conda-jupyter-py"
  },
  "language_info": {
   "codemirror_mode": {
    "name": "ipython",
    "version": 3
   },
   "file_extension": ".py",
   "mimetype": "text/x-python",
   "name": "python",
   "nbconvert_exporter": "python",
   "pygments_lexer": "ipython3",
   "version": "3.10.8"
  }
 },
 "nbformat": 4,
 "nbformat_minor": 5
}
