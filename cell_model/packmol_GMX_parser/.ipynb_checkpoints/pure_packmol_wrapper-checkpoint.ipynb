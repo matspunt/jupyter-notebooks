{
 "cells": [
  {
   "cell_type": "markdown",
   "id": "5812e61a",
   "metadata": {},
   "source": [
    "### Note\n",
    "\n",
    "This is not a full fledged PACKMOL wrapper, but only takes care of the bare minimum PACKMOL functionality for obtaining different geometrical shapes in the CELL project. "
   ]
  },
  {
   "cell_type": "code",
   "execution_count": 77,
   "id": "ef57ec48",
   "metadata": {
    "ExecuteTime": {
     "end_time": "2023-05-03T14:35:58.111769Z",
     "start_time": "2023-05-03T14:35:58.108842Z"
    }
   },
   "outputs": [],
   "source": [
    "import subprocess as sp\n",
    "import tempfile\n",
    "from distutils.spawn import find_executable\n",
    "import datetime\n",
    "import os\n",
    "import glob"
   ]
  },
  {
   "cell_type": "markdown",
   "id": "85a93e48",
   "metadata": {},
   "source": [
    "## Section 1: Defining the logic to execute Packmol"
   ]
  },
  {
   "cell_type": "code",
   "execution_count": 90,
   "id": "1f5dfb1c",
   "metadata": {
    "ExecuteTime": {
     "end_time": "2023-05-03T14:51:25.838003Z",
     "start_time": "2023-05-03T14:51:25.828016Z"
    }
   },
   "outputs": [],
   "source": [
    "class PackmolExecuter:\n",
    "    \"\"\"\n",
    "    Provides an interface for calling PACKMOL through Python.\n",
    "    \n",
    "    Methods\n",
    "    -------\n",
    "    check_packmol_path()\n",
    "        Checks if PACKMOL is installed, and prints the path to the binary if it is found.\n",
    "        \n",
    "    construct_bead_xyz(bead_identities)\n",
    "        Based on the bead 'force field', constructs the XYZ files required for PACKMOL\n",
    "        \n",
    "    run_packmol(input_file)\n",
    "        Runs PACKMOL with the constructed input file, or raises an exception if the run fails.\n",
    "    \"\"\"\n",
    "\n",
    "    def __init__(self):\n",
    "        self.packmol_path = find_executable(\"packmol\")\n",
    "        \n",
    "    def check_packmol_path(self):\n",
    "        if self.packmol_path is not None:\n",
    "            print(f\"Using PACKMOL from: {self.packmol_path}\")\n",
    "        else:\n",
    "            print(f\"Error: cannot locate PACKMOL binary. Are you in the right environment?\")\n",
    "      \n",
    "    def construct_bead_xyz(self, bead_identities):\n",
    "        \"\"\"\n",
    "        Saves a .XYZ file for each individual bead in the CELL for PACKMOL input\n",
    "\n",
    "        Args:\n",
    "            bead_identities (list): List of bead identities.\n",
    "        \"\"\"\n",
    "    \n",
    "        xyz = \"1\\n\\nX         10.00000       10.00000       10.00000\"    \n",
    "    \n",
    "        for bead in bead_identities:\n",
    "            file_name = f\"{bead}.xyz\"\n",
    "            with open(file_name, \"w\") as f:\n",
    "                f.write(xyz.replace(\"X\", bead))\n",
    " \n",
    "    def run_packmol(self, input_file):\n",
    "        \"\"\"\n",
    "        Runs PACKMOL with the given input file, or raises an exception if the run fails.\n",
    "        \n",
    "        Parameters\n",
    "        ----------\n",
    "        input_file : str\n",
    "            The input file for PACKMOL, as a string.\n",
    "        \"\"\"\n",
    "        try:\n",
    "            self.check_packmol_path()\n",
    "            # Directly parsing the .inp leads to an error with subprocess\n",
    "            # see: https://github.com/mosdef-hub/mbuild/issues/419, use tempfile as workaround\n",
    "            packmol_inp = tempfile.NamedTemporaryFile(mode=\"w\", delete=False, prefix=\"packmol-\", suffix=\".inp\")\n",
    "            packmol_inp.write(input_file)\n",
    "            packmol_inp.close()\n",
    "            #create the bead name .xyz. THIS IS CURRENTLY HARDCODED FOR THREE BEADS!!!!!\n",
    "            bead_list = [\"A\", \"B\", \"N\"] # HARDCODED\n",
    "            self.construct_bead_xyz(bead_list)\n",
    "            now = datetime.datetime.now()\n",
    "            log_file = \"PACKMOL_build-{}.log\".format(now.strftime(\"%d-%m-%H-%M-%S\"))\n",
    "            with open(log_file, \"w\") as f:\n",
    "                proc = sp.run(\"{} < {}\".format(self.packmol_path, packmol_inp.name), stdout=sp.PIPE, universal_newlines=True, shell=True)\n",
    "                stdout = proc.stdout\n",
    "                f.write(stdout)\n",
    "\n",
    "            if 'Solution written to file: CELL.xyz' in proc.stdout:\n",
    "                print(\"\\n\\nThe coordinate .xyz has been successfully built. A logfile is saved at: \" + log_file)\n",
    "                # remove all .xyz files except for CELL.xyz\n",
    "                for file in glob.glob('*.xyz'):\n",
    "                    if file != 'CELL.xyz':\n",
    "                        os.remove(file)\n",
    "            else:\n",
    "                error_message = f\"\\n\\nPACKMOL run failed. Last 20 lines of logfile \" + log_file + \":\\n\"\n",
    "                error_message += \"\\n\".join(proc.stdout.splitlines()[-20:])\n",
    "                raise Exception(error_message)\n",
    "        except:\n",
    "            print(\"Stopping the run. Please ensure PACKMOL is installed properly as the 'packmol' binary.\")\n",
    "            return\n"
   ]
  },
  {
   "cell_type": "code",
   "execution_count": 87,
   "id": "c78427b2",
   "metadata": {
    "ExecuteTime": {
     "end_time": "2023-05-03T14:50:05.070166Z",
     "start_time": "2023-05-03T14:50:05.067045Z"
    }
   },
   "outputs": [],
   "source": [
    "#currently the class accepts the .inp as a string, so need to manually pass it as a string for now. But \n",
    "# eventually going to have the string supplied by another class. \n",
    "with open(\"two_bead_types_random.inp\",\"r\") as f:\n",
    "    input_string = f.read()"
   ]
  },
  {
   "cell_type": "code",
   "execution_count": 88,
   "id": "30c73e27",
   "metadata": {
    "ExecuteTime": {
     "end_time": "2023-05-03T14:50:06.676335Z",
     "start_time": "2023-05-03T14:50:06.619038Z"
    }
   },
   "outputs": [
    {
     "name": "stdout",
     "output_type": "stream",
     "text": [
      "Using PACKMOL from: /home/matspunt/.conda/envs/jupyter/bin/packmol\n",
      "\n",
      "\n",
      "The coordinate .xyz has been successfully built. A logfile is saved at: PACKMOL_build-03-05-17-50-06.log\n"
     ]
    }
   ],
   "source": [
    "execute_packmol = PackmolExecuter()\n",
    "packmol_inp = input_string\n",
    "execute_packmol.run_packmol(packmol_inp)"
   ]
  }
 ],
 "metadata": {
  "kernelspec": {
   "display_name": "Python [conda env:.conda-jupyter] *",
   "language": "python",
   "name": "conda-env-.conda-jupyter-py"
  },
  "language_info": {
   "codemirror_mode": {
    "name": "ipython",
    "version": 3
   },
   "file_extension": ".py",
   "mimetype": "text/x-python",
   "name": "python",
   "nbconvert_exporter": "python",
   "pygments_lexer": "ipython3",
   "version": "3.10.8"
  }
 },
 "nbformat": 4,
 "nbformat_minor": 5
}
