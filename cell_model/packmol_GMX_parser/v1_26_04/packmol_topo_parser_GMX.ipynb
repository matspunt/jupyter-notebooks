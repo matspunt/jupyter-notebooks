{
 "cells": [
  {
   "cell_type": "markdown",
   "id": "b0805b99",
   "metadata": {},
   "source": [
    "### Part 2. Visualizing any coordinate file using NGLView"
   ]
  },
  {
   "cell_type": "code",
   "execution_count": 8,
   "id": "cd80bc92",
   "metadata": {
    "ExecuteTime": {
     "end_time": "2023-04-26T10:21:29.209424Z",
     "start_time": "2023-04-26T10:21:29.164323Z"
    },
    "scrolled": false
   },
   "outputs": [
    {
     "data": {
      "application/vnd.jupyter.widget-view+json": {
       "model_id": "3020de74e2cb4a929dc404d8f2b05881",
       "version_major": 2,
       "version_minor": 0
      },
      "text/plain": [
       "NGLWidget(layout=Layout(width='auto'))"
      ]
     },
     "metadata": {},
     "output_type": "display_data"
    }
   ],
   "source": [
    "def visualize_file(file_name, representation_type):\n",
    "    \"\"\"\n",
    "    Uses NGLView to render any coordinate file belonging to the CELL. \n",
    "\n",
    "    :param filename: str, name of the file containing the molecular structure\n",
    "    :param representation: str, representation to display (default='spacefill,surface')\n",
    "    \"\"\"\n",
    "    # Read the file and extract the atom names\n",
    "    with open(file_name, \"r\") as f:\n",
    "        lines = f.readlines()[2:-1]\n",
    "        atom_names = [line[10:15].strip() for line in lines]\n",
    "\n",
    "    # Get the indices of the different atom types. Names are currently hardcoded\n",
    "    type_A = [i for i, name in enumerate(atom_names) if name == \"A\"]\n",
    "    type_B = [i for i, name in enumerate(atom_names) if name == \"B\"]\n",
    "    type_N = [i for i, name in enumerate(atom_names) if name == \"N\"]\n",
    "\n",
    "    view = nv.show_file(file_name, default=False)\n",
    "    view.center()\n",
    "    view.clear_representations()\n",
    "\n",
    "    #there are two representation types that make sense, spacefilling (spheres) and surface\n",
    "    if representation_type == 'spacefilling':\n",
    "        # Represent the atoms as beads without bonds\n",
    "        view.add_spacefill(selection=type_A, color='#0047AB', radius_type='vdw', radius=0.8, opacity=1) #blue\n",
    "        view.add_spacefill(selection=type_B, color='#A30000', radius_type='vdw', radius=0.8, opacity=1) #red\n",
    "        view.add_spacefill(selection=type_N, color='#006400', radius_type='vdw', radius=0.8, opacity=1) #green\n",
    "    elif representation_type == 'surface':\n",
    "        # Alternatively, represent as surface representation\n",
    "        view.add_surface(selection=type_A, color='#0047AB', opacity=0.9) #blue\n",
    "        view.add_surface(selection=type_B, color='#A30000', opacity=0.9) #red\n",
    "        view.add_surface(selection=type_N, color='#006400', opacity=0.9) #green\n",
    "    else:\n",
    "        raise ValueError('Representation type must be \"surface\" or \"spacefilling\"')\n",
    "    \n",
    "    #some NGLview settings that make it nicer\n",
    "    view.camera = 'orthographic'\n",
    "    view.layout.width = 'auto'\n",
    "    view._remote_call(\"setSize\", target=\"Widget\", args=[\"500px\", \"500px\"])\n",
    "    \n",
    "    return view\n",
    "        \n",
    "view = visualize_file('CELL.gro', 'surface')\n",
    "#view = visualize_file('CELL.gro', 'spacefilling')\n",
    "view\n"
   ]
  },
  {
   "cell_type": "markdown",
   "id": "0d815c7c",
   "metadata": {},
   "source": [
    "### Part 3. Using the generated coordinates and topologies to start a GMX simulation"
   ]
  },
  {
   "cell_type": "markdown",
   "id": "f07c9cb2",
   "metadata": {},
   "source": [
    "### Generating .mdp inputs and spawning simulations"
   ]
  },
  {
   "cell_type": "code",
   "execution_count": 20,
   "id": "e13bebbd",
   "metadata": {
    "ExecuteTime": {
     "end_time": "2023-04-27T11:03:01.573780Z",
     "start_time": "2023-04-27T11:02:48.188384Z"
    }
   },
   "outputs": [
    {
     "name": "stdout",
     "output_type": "stream",
     "text": [
      "Simulation complete, no problems encountered. Log saved as \"gmx_run.log\"\n"
     ]
    }
   ],
   "source": [
    "#since we are working with dicts, we can change mdp settings simply through their key\n",
    "#run_mdp['nsteps'] = 1000\n",
    "write_mdp_file(min_mdp, 'min.mdp')\n",
    "write_mdp_file(run_mdp, 'run.mdp')\n",
    "run_GMX()\n"
   ]
  },
  {
   "cell_type": "code",
   "execution_count": 12,
   "id": "8e491171",
   "metadata": {
    "ExecuteTime": {
     "end_time": "2023-04-24T14:26:37.625720Z",
     "start_time": "2023-04-24T14:26:37.560896Z"
    },
    "scrolled": true
   },
   "outputs": [
    {
     "data": {
      "application/vnd.jupyter.widget-view+json": {
       "model_id": "fdfce1e969b34fd0984cc912aa1194ad",
       "version_major": 2,
       "version_minor": 0
      },
      "text/plain": [
       "NGLWidget(layout=Layout(width='auto'))"
      ]
     },
     "metadata": {},
     "output_type": "display_data"
    }
   ],
   "source": [
    "#Visualizing the final frame of the simulation\n",
    "view = visualize_file('2-run.gro', 'spacefilling')\n",
    "view\n"
   ]
  },
  {
   "cell_type": "markdown",
   "id": "f71a07fc",
   "metadata": {},
   "source": [
    "### Packing multiple cells using gmx editconf"
   ]
  },
  {
   "cell_type": "code",
   "execution_count": 23,
   "id": "7d1638d5",
   "metadata": {
    "ExecuteTime": {
     "end_time": "2023-04-25T12:12:24.265309Z",
     "start_time": "2023-04-25T12:12:24.255234Z"
    }
   },
   "outputs": [],
   "source": [
    "\"\"\"import subprocess as sp\n",
    "\n",
    "def generate_coordinates(box_size=\"6 6 6\"):\n",
    "    GMX = find_executable(\"gmx\")\n",
    "    #raise an eror if gmx cannot be found on the user's machine\n",
    "    if not GMX:\n",
    "        raise RuntimeError(\"Cannot find GROMACS executable 'gmx' in PATH\")\n",
    "    positions = [\"0\", \"1.9\", \"-1.9\"]\n",
    "    combos = [(x, y, z) for x in positions for y in positions for z in positions]\n",
    "    for i, combo in enumerate(combos):\n",
    "        x, y, z = combo\n",
    "        cmd = f\"gmx editconf -f CELL_OG.gro -o translate{i+1}.gro -translate {x} {y} {z}\"\n",
    "        sp.run(cmd.split(), stdout=subprocess.DEVNULL, stderr=subprocess.DEVNULL)\"\"\"\n",
    "        \n"
   ]
  },
  {
   "cell_type": "markdown",
   "id": "37d178a0",
   "metadata": {},
   "source": [
    "### Spawning US simulations through Python"
   ]
  },
  {
   "cell_type": "code",
   "execution_count": 8,
   "id": "8b7cee53",
   "metadata": {
    "ExecuteTime": {
     "end_time": "2023-04-24T14:24:17.692922Z",
     "start_time": "2023-04-24T14:24:17.679738Z"
    }
   },
   "outputs": [
    {
     "data": {
      "text/plain": [
       "'def make_ndx_pull(atom_indices_dict=None, gro=\"CELL.gro\", ndx = \"index_pull.ndx\"):\\n    \\n    if atom_indices_dict is None:\\n        atom_indices_list = list(range(1, 21))\\n        atom_range = \"a\" + str(atom_indices_list[0]) + \"-\" + str(atom_indices_list[-1])\\n    else:\\n        atom_indices_list = []\\n        for start, end in atom_indices_dict.values():\\n            atom_indices_list += list(range(start, end+1))\\n\\n    # Define the command for creating the index file and adding a new group\\n    command = f\"gmx make_ndx -f {gro} -o {ndx} <<EOF\\na 1-20\\nname 3 TO_PULL\\nq\\nEOF\"\\n\\n    # Suppress all output from the command\\n    with open(os.devnull, \"w\") as fnull:\\n        sp.call(command, shell=True, stdout=fnull, stderr=fnull)\\n        '"
      ]
     },
     "execution_count": 8,
     "metadata": {},
     "output_type": "execute_result"
    }
   ],
   "source": [
    "\"\"\"def make_ndx_pull(atom_indices_dict=None, gro=\"CELL.gro\", ndx = \"index_pull.ndx\"):\n",
    "    \n",
    "    if atom_indices_dict is None:\n",
    "        atom_indices_list = list(range(1, 21))\n",
    "        atom_range = \"a\" + str(atom_indices_list[0]) + \"-\" + str(atom_indices_list[-1])\n",
    "    else:\n",
    "        atom_indices_list = []\n",
    "        for start, end in atom_indices_dict.values():\n",
    "            atom_indices_list += list(range(start, end+1))\n",
    "\n",
    "    # Define the command for creating the index file and adding a new group\n",
    "    command = f\"gmx make_ndx -f {gro} -o {ndx} <<EOF\\na 1-20\\nname 3 TO_PULL\\nq\\nEOF\"\n",
    "\n",
    "    # Suppress all output from the command\n",
    "    with open(os.devnull, \"w\") as fnull:\n",
    "        sp.call(command, shell=True, stdout=fnull, stderr=fnull)\n",
    "        \"\"\"\n",
    "#create_index_file()"
   ]
  },
  {
   "cell_type": "markdown",
   "id": "8895f6d2",
   "metadata": {},
   "source": [
    "### Finding bond radiuses with lowest energy"
   ]
  },
  {
   "cell_type": "code",
   "execution_count": 25,
   "id": "6ebccbb8",
   "metadata": {
    "ExecuteTime": {
     "end_time": "2023-04-27T13:06:22.784338Z",
     "start_time": "2023-04-27T13:06:12.147162Z"
    },
    "scrolled": true
   },
   "outputs": [
    {
     "name": "stdout",
     "output_type": "stream",
     "text": [
      "\n",
      "\n",
      "nr of param combs: 26\n",
      "sim-1\n",
      "The file '2-run.log' was not found.\n",
      "sim-2\n",
      "The file '2-run.log' was not found.\n",
      "sim-3\n",
      "The file '2-run.log' was not found.\n",
      "sim-4\n",
      "The file '2-run.log' was not found.\n",
      "sim-5\n",
      "The file '2-run.log' was not found.\n",
      "sim-6\n",
      "The file '2-run.log' was not found.\n",
      "sim-7\n",
      "The file '2-run.log' was not found.\n",
      "sim-8\n",
      "The file '2-run.log' was not found.\n",
      "sim-9\n",
      "The file '2-run.log' was not found.\n",
      "sim-10\n",
      "The file '2-run.log' was not found.\n",
      "sim-11\n",
      "The file '2-run.log' was not found.\n",
      "sim-12\n",
      "The file '2-run.log' was not found.\n",
      "sim-13\n",
      "The file '2-run.log' was not found.\n",
      "sim-14\n",
      "The file '2-run.log' was not found.\n",
      "sim-15\n",
      "The file '2-run.log' was not found.\n",
      "sim-16\n",
      "The file '2-run.log' was not found.\n",
      "sim-17\n",
      "The file '2-run.log' was not found.\n",
      "sim-18\n",
      "The file '2-run.log' was not found.\n",
      "sim-19\n",
      "The file '2-run.log' was not found.\n",
      "sim-20\n",
      "The file '2-run.log' was not found.\n",
      "sim-21\n",
      "The file '2-run.log' was not found.\n",
      "sim-22\n",
      "The file '2-run.log' was not found.\n",
      "sim-23\n",
      "The file '2-run.log' was not found.\n",
      "sim-24\n",
      "The file '2-run.log' was not found.\n",
      "sim-25\n",
      "The file '2-run.log' was not found.\n",
      "sim-26\n",
      "The file '2-run.log' was not found.\n"
     ]
    }
   ],
   "source": [
    "import os\n",
    "import shutil\n",
    "import numpy as np\n",
    "import pandas as pd\n",
    "from itertools import product\n",
    "\n",
    "working_dir = \"/wrk/matspunt/projects/cell_model/param_C180/energy_radius_search\"\n",
    "\n",
    "def get_iterated_path(fname_path):\n",
    "    \"\"\"\n",
    "    Get the path to a filename which does not exist by incrementing path.\n",
    "    \"\"\"\n",
    "    if not os.path.exists(fname_path):\n",
    "        return fname_path\n",
    "    filename, file_extension = os.path.splitext(fname_path)\n",
    "    i = 1\n",
    "    new_fname = \"{}-{}{}\".format(filename, i, file_extension)\n",
    "    while os.path.exists(new_fname):\n",
    "        i += 1\n",
    "        new_fname = \"{}-{}{}\".format(filename, i, file_extension)\n",
    "    return new_fname\n",
    "\n",
    "r0_range = np.arange(1.2, 2.5 , 0.05)\n",
    "\n",
    "os.chdir(working_dir)\n",
    "\n",
    "#create dataframe with all param combinations\n",
    "params = pd.DataFrame(list(product(r0_range)),columns=['r0_range'])\n",
    "\n",
    "print(\"\\n\\nnr of param combs: \" + str(len(params))) #to get some idea of number of param combinations)\n",
    "\n",
    "for index, row in params.iterrows():\n",
    "    dirname = get_iterated_path(\"sim\")\n",
    "    print(dirname) #let's print the dirname so we have some idea of the progress\n",
    "    shutil.copytree(r\"sim\", dirname)\n",
    "    os.chdir(dirname)\n",
    "    os.chdir(\"toppar\")\n",
    "    with open('CELL.itp', 'r') as f:\n",
    "        lines = f.readlines()\n",
    "\n",
    "    with open('CELL.itp', 'w') as f:\n",
    "        for line in lines:\n",
    "            line = line.replace('N_A_r0', '{}'.format(str(row['r0_range'])))\n",
    "            line = line.replace('N_B_r0', '{}'.format(str(row['r0_range'])))\n",
    "            f.write(line)\n",
    "            \n",
    "    os.chdir(\"../\")\n",
    "    os.system(\"gmx grompp -p system.top -f toppar/min.mdp -c CELL.gro -o 1-min -maxwarn 1 >/dev/null 2>&1\")\n",
    "    os.system(\"timeout -k 2s 30s gmx mdrun -nt 12 -pin on -deffnm 1-min >/dev/null 2>&1\")\n",
    "\n",
    "    os.system(\"gmx grompp -p system.top -f toppar/run.mdp -c 1-min.gro -o 2-run -maxwarn 1 >/dev/null 2>&1\" )\n",
    "    os.system(\"timeout -k 2s 120s gmx mdrun -nt 12 -pin on -deffnm 2-run >/dev/null 2>&1\")\n",
    "    try:\n",
    "        with open(\"2-run.log\") as f, open(\"data.log\", \"w\") as out_file:\n",
    "            for line in f:\n",
    "                if \"Writing checkpoint, step 350000\" in line:\n",
    "                    out_file.write(line)\n",
    "                    for i in range(8):\n",
    "                        out_file.write(next(f))\n",
    "                    break\n",
    "    except FileNotFoundError:\n",
    "        print(\"The file '2-run.log' was not found.\")\n",
    "    try:\n",
    "        with open(\"toppar/CELL.itp\") as f, open(\"data.log\", \"a\") as out_file:\n",
    "            for line in f:\n",
    "                if \"1  181 1\" in line:\n",
    "                    out_file.write(\"r0\" + line)\n",
    "                    break\n",
    "    except FileNotFoundError:\n",
    "        print(\"The file 'toppar/CELL.itp' was not found.\")\n",
    "    os.chdir(working_dir)\n"
   ]
  },
  {
   "cell_type": "code",
   "execution_count": 2,
   "id": "0acc173a",
   "metadata": {
    "ExecuteTime": {
     "end_time": "2023-05-29T14:10:41.378366Z",
     "start_time": "2023-05-29T14:10:41.372259Z"
    }
   },
   "outputs": [
    {
     "name": "stdout",
     "output_type": "stream",
     "text": [
      "{('C', 'M1'): {'func': 1, 'r0': 1.6, 'fk': 5000}, ('C', 'M2'): {'func': 1, 'r0': 1.8, 'fk': 10000}}\n"
     ]
    }
   ],
   "source": [
    "text = '''[ bondtypes]\n",
    ";  i   j  func    r0      fk   \n",
    "   C   M1   1     1.60    5000\n",
    "   C   M2   1     1.80    10000'''\n",
    "\n",
    "lines = text.strip().split('\\n')[2:]  # Remove the first two lines and split the remaining lines\n",
    "bondtypes_dict = {}\n",
    "\n",
    "for line in lines:\n",
    "    values = line.split()\n",
    "    i, j, func, r0, fk = values[0], values[1], int(values[2]), float(values[3]), int(values[4])\n",
    "    bondtypes_dict[(i, j)] = {'func': func, 'r0': r0, 'fk': fk}\n",
    "\n",
    "print(bondtypes_dict)"
   ]
  },
  {
   "cell_type": "code",
   "execution_count": null,
   "id": "90d4df3d",
   "metadata": {},
   "outputs": [],
   "source": []
  }
 ],
 "metadata": {
  "kernelspec": {
   "display_name": "Python [conda env:.conda-jupyter] *",
   "language": "python",
   "name": "conda-env-.conda-jupyter-py"
  },
  "language_info": {
   "codemirror_mode": {
    "name": "ipython",
    "version": 3
   },
   "file_extension": ".py",
   "mimetype": "text/x-python",
   "name": "python",
   "nbconvert_exporter": "python",
   "pygments_lexer": "ipython3",
   "version": "3.10.8"
  }
 },
 "nbformat": 4,
 "nbformat_minor": 5
}
