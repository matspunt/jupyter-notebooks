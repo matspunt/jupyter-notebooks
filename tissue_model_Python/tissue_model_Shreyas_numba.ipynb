{
 "cells": [
  {
   "cell_type": "markdown",
   "id": "af2e6e24",
   "metadata": {},
   "source": [
    "## Implementing parallelization in the code"
   ]
  },
  {
   "cell_type": "code",
   "execution_count": 54,
   "id": "313a1678",
   "metadata": {
    "ExecuteTime": {
     "end_time": "2023-06-26T08:37:37.637948Z",
     "start_time": "2023-06-26T08:37:37.632440Z"
    }
   },
   "outputs": [],
   "source": [
    "import numpy as np\n",
    "from sklearn.neighbors import NearestNeighbors\n",
    "import pylab as plt\n",
    "import MDAnalysis as md"
   ]
  },
  {
   "cell_type": "code",
   "execution_count": 55,
   "id": "acd3b019",
   "metadata": {
    "ExecuteTime": {
     "end_time": "2023-06-26T08:37:39.141910Z",
     "start_time": "2023-06-26T08:37:39.136337Z"
    }
   },
   "outputs": [],
   "source": [
    "from numba import jit, cuda\n",
    "from timeit import default_timer as timer \n",
    "import multiprocessing\n"
   ]
  },
  {
   "cell_type": "code",
   "execution_count": 57,
   "id": "940caf56",
   "metadata": {
    "ExecuteTime": {
     "end_time": "2023-06-26T08:37:58.896846Z",
     "start_time": "2023-06-26T08:37:58.890040Z"
    }
   },
   "outputs": [],
   "source": [
    "\n",
    "\n",
    "# particle itp\n",
    "\n",
    "particle_type = {'base':{'type':'base','knn':0.01,'r_vdw':0.05,'charge':0, 'mass':2}}\n",
    "\n",
    "\n",
    "# cell_itp\n",
    "\n",
    "cell_type = {'base':{'type':'base', 'kc':0.01, 'radius':2, 'num_particles': 50, \\\n",
    "                     'particle_type':'base','n_neighbors':6}}\n",
    "\n"
   ]
  },
  {
   "cell_type": "code",
   "execution_count": 67,
   "id": "1bd52604",
   "metadata": {
    "ExecuteTime": {
     "end_time": "2023-06-26T08:51:24.383622Z",
     "start_time": "2023-06-26T08:51:24.375838Z"
    }
   },
   "outputs": [],
   "source": [
    "\n",
    "\n",
    "class Particle:\n",
    "    def __init__(self, index = None, cell_index = None, position = np.zeros(3), p_type =particle_type['base']):\n",
    "        \n",
    "        self.index = index\n",
    "        self.cell_index = cell_index\n",
    "        self.p_type = p_type\n",
    "        self.position = position\n",
    "        self.mass = p_type['mass']\n",
    "        self.r_vdw = p_type['r_vdw']\n",
    "\n"
   ]
  },
  {
   "cell_type": "code",
   "execution_count": 68,
   "id": "848118ae",
   "metadata": {
    "ExecuteTime": {
     "end_time": "2023-06-26T08:51:26.207224Z",
     "start_time": "2023-06-26T08:51:26.190334Z"
    }
   },
   "outputs": [],
   "source": [
    "class Cell:\n",
    "    def __init__(self, c_type = cell_type['base'], index = 0 , center_of_mass = np.zeros(3)):\n",
    "        self.index = index\n",
    "        self.c_type = c_type\n",
    "        self.num_particles = self.c_type['num_particles']\n",
    "        self.radius = self.c_type['radius']\n",
    "        self.center_of_mass = center_of_mass\n",
    "        self.n_neighbors = self.c_type['n_neighbors']\n",
    "        self.particles = []\n",
    "    \n",
    "    @jit(nopython = True)                         \n",
    "    def create_cell(self, start_index = 0):\n",
    "        points = self.generate_initial_points()\n",
    "        self.create_particles(points = points,start_index = start_index)\n",
    "    \n",
    "    @jit(nopython = True)                         \n",
    "    def generate_initial_points(self):\n",
    "        # Generate uniformly distributed points on the surface of a sphere using the Golden Spiral method\n",
    "        golden_ratio = (1 + np.sqrt(5)) / 2\n",
    "        theta = 2 * np.pi * np.arange(self.num_particles) / golden_ratio\n",
    "        z = np.linspace(1 - 1.0 / self.num_particles, 1.0 / self.num_particles - 1, self.num_particles)\n",
    "        radius = np.sqrt(1 - z * z)\n",
    "        points = np.zeros((self.num_particles, 3))\n",
    "        points[:, 0] = radius * np.cos(theta)\n",
    "        points[:, 1] = radius * np.sin(theta)\n",
    "        points[:, 2] = z\n",
    "        points *= self.radius\n",
    "        return points\n",
    "                             \n",
    "    def create_particles(self, start_index, points, ):\n",
    "        for i, point in enumerate(points):\n",
    "            particle = Particle(index = start_index + i, \\\n",
    "                                cell_index = self.index,\\\n",
    "                                position = point + self.center_of_mass, \\\n",
    "                                p_type = particle_type[self.c_type['particle_type']])\n",
    "            self.particles.append(particle)"
   ]
  },
  {
   "cell_type": "code",
   "execution_count": 61,
   "id": "ec093cc9",
   "metadata": {
    "ExecuteTime": {
     "end_time": "2023-06-26T08:38:07.023171Z",
     "start_time": "2023-06-26T08:38:06.976111Z"
    }
   },
   "outputs": [],
   "source": [
    "class System:\n",
    "    def __init__(self, n_cells = 1, c_type ='base'):\n",
    "        self.n_cells = n_cells\n",
    "        self.c_type = cell_type[c_type]\n",
    "        largest_vdw_radius = max([particle_type[ptype]['r_vdw'] for ptype in particle_type])\n",
    "        self.largest_radius = max([cell_type[ctype]['radius'] for ctype in cell_type])\n",
    "        self.largest_num_particles = max([cell_type[ctype]['num_particles'] for ctype in cell_type])\n",
    "        self.cell_spacing = 1.5 * 2 * largest_vdw_radius + 2*self.largest_radius\n",
    "        self.box_spacing = 5 * largest_vdw_radius\n",
    "        self.vdw_cutoff = 1  #vdw_cutoff\n",
    "        self.vdw_epsilon = 0.001 #vdw_epsilon\n",
    "        self.vdw_sigma = 1 #vdw_sigma\n",
    "        self.cells = []\n",
    "        self.particles = []\n",
    "        self.positions = []\n",
    "        self.forces = []\n",
    "        self.centers_of_mass = np.zeros((self.n_cells,3))\n",
    "        self.cell_particle_indices = []\n",
    "        \n",
    "        # Create the system and the simulation box\n",
    "        self.create_system()\n",
    "        self.create_box()\n",
    "        # Create bonded_neighbor and bonded_central interactions\n",
    "        self.create_bonded_interactions()\n",
    "        # turn the stuff into arrays\n",
    "        self.bonded_central = np.array(self.bonded_central)\n",
    "        self.bonded_neighbor = np.array(self.bonded_neighbor)\n",
    "                             \n",
    "    def create_system(self):\n",
    "        # Calculate grid size based on number of cells\n",
    "        grid_size = int(np.ceil(self.n_cells ** (1/3)))\n",
    "        \n",
    "        for i in range(grid_size):\n",
    "            for j in range(grid_size):\n",
    "                for k in range(grid_size):\n",
    "                    if len(self.cells) < self.n_cells:\n",
    "                        center_of_mass = [i * self.cell_spacing,\n",
    "                                          j * self.cell_spacing,\n",
    "                                          k * self.cell_spacing]\n",
    "                        self.centers_of_mass[len(self.cells)] = center_of_mass\n",
    "                        cell = Cell(c_type=self.c_type,\n",
    "                                    index = len(self.cells),\n",
    "                                    center_of_mass=center_of_mass)\n",
    "                        cell.create_cell(start_index = len(self.cells)*self.c_type['num_particles'])\n",
    "                        self.cells.append(cell)\n",
    "                        self.particles.extend(cell.particles)\n",
    "                        # Store particle indices for current cell\n",
    "                        self.cell_particle_indices.append([particle.index for particle in cell.particles])\n",
    "        # Initialize positions and forces arrays\n",
    "        n_particles = len(self.particles)\n",
    "        self.positions = np.zeros((n_particles, 3))\n",
    "        self.forces = np.zeros((n_particles, 3))\n",
    "        \n",
    "        # Set initial positions of particles\n",
    "        for i, particle in enumerate(self.particles):\n",
    "            self.positions[i] = particle.position\n",
    "                         \n",
    "    def create_box(self):\n",
    "        grid_size = int(np.ceil(self.n_cells ** (1/3)))\n",
    "        \n",
    "        # Calculate box dimensions based on grid size and cell spacing\n",
    "        box_dimensions = np.array([grid_size, grid_size, grid_size]) * self.cell_spacing\n",
    "\n",
    "        # Add box spacing to box dimensions to ensure that box walls are away from outermost \n",
    "        # cell particles by box spacing distance\n",
    "        box_dimensions += 2 * self.box_spacing\n",
    "\n",
    "        # Calculate center of mass of system\n",
    "        system_center_of_mass = np.mean(self.positions, axis=0)\n",
    "\n",
    "        # Move system center of mass to box center\n",
    "        box_center = box_dimensions / 2\n",
    "        translation_vector = box_center - system_center_of_mass\n",
    "        self.positions += translation_vector\n",
    "        for cell in self.cells:\n",
    "            cell.center_of_mass += translation_vector\n",
    "            for particle in cell.particles:\n",
    "                particle.position += translation_vector\n",
    "\n",
    "        self.box_dimensions = box_dimensions\n",
    "    \n",
    "    @jit(nopython = True)                         \n",
    "    def create_bonded_interactions(self):\n",
    "        # Initialize bonded_neighbor and bonded_central interactions\n",
    "        self.bonded_neighbor = []\n",
    "        self.bonded_central = []\n",
    "\n",
    "        # Loop over cells to create interactions\n",
    "        for cell in self.cells:\n",
    "            n_neighbors = cell.n_neighbors\n",
    "            # Create an array of particle positions for the current cell\n",
    "            positions = np.array([particle.position for particle in cell.particles])\n",
    "\n",
    "            # Find the N nearest neighbors for each particle in the current cell\n",
    "            nbrs = NearestNeighbors(n_neighbors=n_neighbors+1).fit(positions)\n",
    "            distances, indices = nbrs.kneighbors(positions)\n",
    "\n",
    "            # Loop over particles in the current cell to create interactions\n",
    "            for i, particle in enumerate(cell.particles):\n",
    "                # Create bonded_central interaction\n",
    "                kc = cell.c_type['kc']\n",
    "                r0 = cell.c_type['radius']\n",
    "                self.bonded_central.append([particle.index, -1, kc, r0])\n",
    "\n",
    "                # Create bonded_neighbor interactions\n",
    "                for j in indices[i][1:]:\n",
    "                    if particle.index < cell.particles[j].index:\n",
    "                        neighbor_particle = cell.particles[j]\n",
    "                        k = knn = particle.p_type['knn']\n",
    "                        r0 = 2*self.largest_radius /np.sqrt(self.largest_num_particles) \n",
    "                        #(particle.r_vdw + neighbor_particle.r_vdw) / 2\n",
    "                        self.bonded_neighbor.append([int(particle.index), int(neighbor_particle.index), k, r0])\n",
    "                    \n",
    "    @jit(nopython = True)                         \n",
    "    def calculate_bonded_forces(self):\n",
    "        # Reset forces to zero\n",
    "        self.forces.fill(0)\n",
    "\n",
    "        # Calculate forces from bonded_central interactions\n",
    "        particle_indices = self.bonded_central[:, 0].astype(np.int64)\n",
    "        ks = self.bonded_central[:, 2]\n",
    "        r0s = self.bonded_central[:, 3]\n",
    "        particle_positions = self.positions[particle_indices]\n",
    "\n",
    "        # Update center of mass of each cell\n",
    "        cell_center_of_masses = np.array([np.mean(self.positions[cell_particle_indices], axis=0) \\\n",
    "                                          for cell_particle_indices in self.cell_particle_indices])\n",
    "        # Select center of mass for each particle in particle_indices\n",
    "        cell_center_of_masses = np.array([cell_center_of_masses[self.particles[i].cell_index] for i in particle_indices])\n",
    "        rijs = particle_positions - cell_center_of_masses\n",
    "        # Apply minimum image convention\n",
    "        rijs -= np.rint(rijs / self.box_dimensions) * self.box_dimensions\n",
    "        dijs = np.linalg.norm(rijs, axis=1)\n",
    "        fijs = -ks[:, None] * (dijs - r0s)[:, None] * rijs / dijs[:, None]\n",
    "        np.add.at(self.forces, particle_indices, fijs)\n",
    "\n",
    "        # Calculate forces from bonded_neighbor interactions\n",
    "        particle_indices = self.bonded_neighbor[:, 0].astype(np.int64)\n",
    "        neighbor_particle_indices = self.bonded_neighbor[:, 1].astype(np.int64)\n",
    "        ks = self.bonded_neighbor[:, 2]\n",
    "        r0s = self.bonded_neighbor[:, 3]\n",
    "        particle_positions = self.positions[particle_indices]\n",
    "        neighbor_particle_positions = self.positions[neighbor_particle_indices]\n",
    "        rijs = particle_positions - neighbor_particle_positions\n",
    "        # Apply minimum image convention\n",
    "        rijs -= np.rint(rijs / self.box_dimensions) * self.box_dimensions\n",
    "        dijs = np.linalg.norm(rijs, axis=1)\n",
    "        fijs = -ks[:, None] * (dijs - r0s)[:, None] * rijs / dijs[:, None]\n",
    "        np.add.at(self.forces, particle_indices, fijs)\n",
    "        np.subtract.at(self.forces, neighbor_particle_indices, fijs)\n",
    "\n",
    "    @jit(nopython = True)                            \n",
    "    def calculate_vdw_forces(self):\n",
    "        # Calculate pairwise distances between particles\n",
    "        rij = self.positions[:, np.newaxis, :] - self.positions[np.newaxis, :, :]\n",
    "        # Apply minimum image convention\n",
    "        rij -= np.rint(rij / self.box_dimensions) * self.box_dimensions\n",
    "        dij = np.linalg.norm(rij, axis=2)\n",
    "\n",
    "        # Calculate van der Waals forces\n",
    "        fij = np.zeros_like(rij)\n",
    "        mask = (dij > 0) & (dij < self.vdw_cutoff)\n",
    "        fij[mask] = 24 * self.vdw_epsilon * ((2 * (self.vdw_sigma / dij[mask]) ** 12) - \\\n",
    "                                             ((self.vdw_sigma / dij[mask]) ** 6))[:, np.newaxis] \\\n",
    "                                            * rij[mask] / dij[mask][:, np.newaxis]\n",
    "\n",
    "        # Sum van der Waals forces acting on each particle\n",
    "        vdw_forces = np.sum(fij, axis=1)\n",
    "\n",
    "        return vdw_forces\n",
    "    \n",
    "    @jit(nopython = True)                         \n",
    "    def potential_energy(self, verbose=False):\n",
    "        # Calculate potential energy from bonded_central interactions\n",
    "        particle_indices = self.bonded_central[:, 0].astype(int)\n",
    "        ks = self.bonded_central[:, 2]\n",
    "        r0s = self.bonded_central[:, 3]\n",
    "        particle_positions = self.positions[particle_indices]\n",
    "        cell_center_of_masses = np.array([self.cells[self.particles[i].cell_index].\\\n",
    "                                          center_of_mass for i in particle_indices])\n",
    "        #dijs = np.linalg.norm(particle_positions - cell_center_of_masses, axis=1)\n",
    "        rijs = particle_positions - cell_center_of_masses\n",
    "        # Apply minimum image convention\n",
    "        rijs -= np.rint(rijs / self.box_dimensions) * self.box_dimensions\n",
    "        dijs = np.linalg.norm(rijs, axis=1)\n",
    "        central_pe = 0.5 * np.sum(ks * (dijs - r0s) ** 2)\n",
    "        pe = 0.5 * np.sum(ks * (dijs - r0s) ** 2)\n",
    "\n",
    "        # Calculate potential energy from bonded_neighbor interactions\n",
    "        particle_indices = self.bonded_neighbor[:, 0].astype(int)\n",
    "        neighbor_particle_indices = self.bonded_neighbor[:, 1].astype(int)\n",
    "        ks = self.bonded_neighbor[:, 2]\n",
    "        r0s = self.bonded_neighbor[:, 3]\n",
    "        particle_positions = self.positions[particle_indices]\n",
    "        neighbor_particle_positions = self.positions[neighbor_particle_indices]\n",
    "        rijs = particle_positions - neighbor_particle_positions\n",
    "        # Apply minimum image convention\n",
    "        rijs -= np.rint(rijs / self.box_dimensions) * self.box_dimensions\n",
    "        dijs = np.linalg.norm(rijs, axis=1)\n",
    "        #dijs = np.linalg.norm(particle_positions - neighbor_particle_positions, axis=1)\n",
    "        bonded_pe = 0.5 * np.sum(ks * (dijs - r0s) ** 2)\n",
    "        pe += bonded_pe\n",
    "        \n",
    "        # Calculate van der Waals potential energy\n",
    "        rij = self.positions[:, np.newaxis, :] - self.positions[np.newaxis, :, :]\n",
    "        # Apply minimum image convention\n",
    "        rij -= np.rint(rij / self.box_dimensions) * self.box_dimensions\n",
    "        dij = np.linalg.norm(rij, axis=2)\n",
    "        mask = (dij > 0) & (dij < self.vdw_cutoff)\n",
    "        vdw_pe = 4 * self.vdw_epsilon * np.sum(((self.vdw_sigma / dij[mask]) ** 12) - \\\n",
    "                                               ((self.vdw_sigma / dij[mask]) ** 6))\n",
    "        pe += vdw_pe\n",
    "        if not verbose:\n",
    "            return pe\n",
    "        else: return pe, central_pe, bonded_pe, vdw_pe\n",
    "\n",
    "    @jit(nopython = True)                         \n",
    "    def kinetic_energy(self, velocities):\n",
    "        masses = np.array([particle.mass for particle in self.particles])\n",
    "        return 0.5 * np.sum(masses[:, None] * velocities ** 2)"
   ]
  },
  {
   "cell_type": "code",
   "execution_count": 62,
   "id": "95e57b16",
   "metadata": {
    "ExecuteTime": {
     "end_time": "2023-06-26T08:38:09.500389Z",
     "start_time": "2023-06-26T08:38:09.488161Z"
    }
   },
   "outputs": [],
   "source": [
    "@jit(target_backend='cuda', nopython = True)                         \n",
    "def minimize_energy(system, dt=0.0001, n_steps=1000, verbose=False):\n",
    "    energies = []\n",
    "    for step in range(n_steps):\n",
    "        # Calculate potential energy\n",
    "        pe = system.potential_energy()\n",
    "        energies.append(pe)\n",
    "\n",
    "        #if verbose:\n",
    "            #Numba does not support f strings\n",
    "            #print(\"Step:\" + step \", Potential Energy:\" + pe + \", end='\\r'\")\n",
    "\n",
    "        # Calculate the forces acting on the particles\n",
    "        system.calculate_bonded_forces()\n",
    "        bonded_forces = system.forces\n",
    "        vdw_forces = system.calculate_vdw_forces()\n",
    "        forces = bonded_forces + vdw_forces\n",
    "\n",
    "        # Update the positions of the particles\n",
    "        system.positions += dt * forces\n",
    "\n",
    "    # Update center of mass of each cell\n",
    "    for cell in system.cells:\n",
    "        cell_center_of_mass = np.mean([particle.position for particle in cell.particles], axis=0)\n",
    "        cell.center_of_mass = cell_center_of_mass\n",
    "\n",
    "    # Update positions\n",
    "    for i, particle in enumerate(system.particles):\n",
    "        particle.position = system.positions[i]\n",
    "\n",
    "    return energies"
   ]
  },
  {
   "cell_type": "code",
   "execution_count": 63,
   "id": "76edebd2",
   "metadata": {
    "ExecuteTime": {
     "end_time": "2023-06-26T08:38:13.108957Z",
     "start_time": "2023-06-26T08:38:13.089295Z"
    }
   },
   "outputs": [],
   "source": [
    "@jit(target_backend='cuda', nopython = True)                         \n",
    "def simulate_dynamics(system, dt=0.1, n_steps=1000, initial_velocities=None, temperature=0.1, verbose=False\\\n",
    "                      ,skip=100, out_trj = 'trjout.xtc'):\n",
    "    n_particles = len(system.particles)\n",
    "    masses = np.array([particle.mass for particle in system.particles])\n",
    "    if initial_velocities is None:\n",
    "        velocities = np.zeros((n_particles, 3))\n",
    "    elif initial_velocities == \"MB\":\n",
    "        velocities = np.random.normal(0, np.sqrt(temperature), (n_particles, 3))\n",
    "    else:\n",
    "        velocities = initial_velocities\n",
    "\n",
    "    penergy = system.potential_energy()\n",
    "    kenergy = system.kinetic_energy(velocities)\n",
    "    PDB = f'system_{system.n_cells}cells_min.pdb'\n",
    "    u = md.Universe(PDB)\n",
    "    protein = u.select_atoms(\"name CA\")\n",
    "    with md.Writer( out_trj, protein.n_atoms) as W:\n",
    "        penergy_trajectory = []\n",
    "        kenergy_trajectory = []\n",
    "        for i in range(n_steps):\n",
    "            # Remove center of mass motion\n",
    "            com_velocity = np.sum(masses[:, None] * velocities, axis=0) / np.sum(masses)\n",
    "            velocities -= com_velocity\n",
    "\n",
    "            # Calculate forces\n",
    "            system.calculate_bonded_forces()\n",
    "            bonded_forces = system.forces\n",
    "            vdw_forces = system.calculate_vdw_forces()\n",
    "            forces = bonded_forces + vdw_forces\n",
    "\n",
    "            # Update positions\n",
    "            system.positions += velocities * dt + 0.5 * forces * dt ** 2 / masses[:, None]\n",
    "\n",
    "            # Apply periodic boundary conditions\n",
    "            system.positions = system.positions % system.box_dimensions\n",
    "\n",
    "            # Calculate new forces\n",
    "            system.calculate_bonded_forces()\n",
    "            new_forces = system.forces\n",
    "\n",
    "            # Update velocities\n",
    "            velocities += 0.5 * (forces + new_forces) * dt / masses[:, None]\n",
    "            \n",
    "            if i%100 == 0:\n",
    "                # Record trajectory and energies\n",
    "                penergy, central, bonded, vdw = system.potential_energy(verbose=True)\n",
    "                kenergy = system.kinetic_energy(velocities)\n",
    "                penergy_trajectory.append([penergy,central, bonded,vdw])\n",
    "                kenergy_trajectory.append(kenergy)\n",
    "                protein.atoms.positions = system.positions\n",
    "                W.write(protein)\n",
    "\n",
    "                if verbose:\n",
    "                    print(f'Iteration: {i}, Potential Energy: {penergy}',end='\\r')\n",
    "\n",
    "        # Update center of mass of each cell\n",
    "        for cell in system.cells:\n",
    "            cell_center_of_mass = np.mean([particle.position for particle in cell.particles], axis=0)\n",
    "            cell.center_of_mass = cell_center_of_mass\n",
    "        # Update positions\n",
    "        for i, particle in enumerate(system.particles):\n",
    "            particle.position = system.positions[i]\n",
    "\n",
    "        return np.array(kenergy_trajectory), np.array(penergy_trajectory)"
   ]
  },
  {
   "cell_type": "code",
   "execution_count": 26,
   "id": "979c9a84",
   "metadata": {
    "ExecuteTime": {
     "end_time": "2023-06-21T18:35:18.030673Z",
     "start_time": "2023-06-21T18:35:18.012793Z"
    }
   },
   "outputs": [],
   "source": [
    "@jit(target_backend='cuda', nopython = True)                         \n",
    "def simulate_nvt_dynamics(system, dt=0.1, n_steps=1000, initial_velocities=None, temperature=0.1,\n",
    "                       collision_frequency=10.0, verbose=False, out_trj = 'trjout.xtc'):\n",
    "    n_particles = len(system.particles)\n",
    "    masses = np.array([particle.mass for particle in system.particles])\n",
    "    if initial_velocities is None:\n",
    "        velocities = np.zeros((n_particles, 3))\n",
    "    elif initial_velocities == \"MB\":\n",
    "        velocities = np.random.normal(0, np.sqrt(temperature), (n_particles, 3))\n",
    "    else:\n",
    "        velocities = initial_velocities\n",
    "\n",
    "    PDB = f'system_{system.n_cells}cells_min.pdb'\n",
    "    u = md.Universe(PDB)\n",
    "    protein = u.select_atoms(\"name CA\")\n",
    "    \n",
    "    penergy_trajectory = []\n",
    "    kenergy_trajectory = []\n",
    "    \n",
    "    with md.Writer( out_trj, protein.n_atoms) as W:\n",
    "        for i in range(n_steps):\n",
    "            # Remove center of mass motion\n",
    "            velocities -= np.sum(masses[:, None] * velocities, axis=0) / np.sum(masses)\n",
    "\n",
    "            # Calculate forces\n",
    "            system.calculate_bonded_forces()\n",
    "            bonded_forces = system.forces\n",
    "            vdw_forces = system.calculate_vdw_forces()\n",
    "            forces = bonded_forces + vdw_forces\n",
    "\n",
    "            # Update positions\n",
    "            system.positions += velocities * dt + 0.5 * forces * dt ** 2 / masses[:, None]\n",
    "\n",
    "            # Apply periodic boundary conditions\n",
    "            system.positions = system.positions % system.box_dimensions\n",
    "\n",
    "            # Calculate new forces\n",
    "            system.calculate_bonded_forces()\n",
    "            new_forces = system.forces\n",
    "\n",
    "            # Update velocities\n",
    "            velocities += 0.5 * (forces + new_forces) * dt / masses[:, None]\n",
    "\n",
    "            # Apply Andersen thermostat\n",
    "            collision_prob = 1 - np.exp(-collision_frequency * dt)\n",
    "            collision_mask = np.random.random(n_particles) < collision_prob\n",
    "            velocities[collision_mask] = np.random.normal(0, np.sqrt(temperature), (np.sum(collision_mask), 3))\n",
    "            \n",
    "            if i%100 == 0:\n",
    "                # Record trajectory and energies\n",
    "                penergy, central, bonded, vdw = system.potential_energy(verbose=True)\n",
    "                kenergy = system.kinetic_energy(velocities)\n",
    "                penergy_trajectory.append([penergy,central, bonded,vdw])\n",
    "                kenergy_trajectory.append(kenergy)\n",
    "                protein.atoms.positions = system.positions\n",
    "                W.write(protein)\n",
    "                \n",
    "                if verbose:\n",
    "                    print(f'Iteration: {i}, Potential Energy: {penergy}',end='\\r')\n",
    "\n",
    "        return np.array(kenergy_trajectory), np.array(penergy_trajectory)\n"
   ]
  },
  {
   "cell_type": "code",
   "execution_count": 64,
   "id": "6c2d6ce3",
   "metadata": {
    "ExecuteTime": {
     "end_time": "2023-06-26T08:38:16.085595Z",
     "start_time": "2023-06-26T08:38:16.057726Z"
    }
   },
   "outputs": [],
   "source": [
    "@jit(target_backend='cuda', nopython = True)                         \n",
    "def simulate_npt_dynamics(system, dt=0.1, n_steps=1000, initial_velocities=None, temperature=0.1,\n",
    "                          collision_frequency=10.0, pressure=1.0, barostat_frequency=10,\n",
    "                          verbose=False, out_trj='trjout.xtc'):\n",
    "    n_particles = len(system.particles)\n",
    "    masses = np.array([particle.mass for particle in system.particles])\n",
    "    if initial_velocities is None:\n",
    "        velocities = np.zeros((n_particles, 3))\n",
    "    elif initial_velocities == \"MB\":\n",
    "        velocities = np.random.normal(0, np.sqrt(temperature), (n_particles, 3))\n",
    "    else:\n",
    "        velocities = initial_velocities\n",
    "\n",
    "    PDB = f'system_{system.n_cells}cells_min.pdb'\n",
    "    u = md.Universe(PDB)\n",
    "    protein = u.select_atoms(\"name CA\")\n",
    "\n",
    "    penergy_trajectory = []\n",
    "    kenergy_trajectory = []\n",
    "\n",
    "    with md.Writer(out_trj, protein.n_atoms) as W:\n",
    "        for i in range(n_steps):\n",
    "            # Remove center of mass motion\n",
    "            com_velocity = np.sum(masses[:, None] * velocities, axis=0) / np.sum(masses)\n",
    "            velocities -= com_velocity\n",
    "\n",
    "            # Calculate forces\n",
    "            system.calculate_bonded_forces()\n",
    "            bonded_forces = system.forces\n",
    "            vdw_forces = system.calculate_vdw_forces()\n",
    "            forces = bonded_forces + vdw_forces\n",
    "\n",
    "            # Update positions\n",
    "            system.positions += velocities * dt + 0.5 * forces * dt ** 2 / masses[:, None]\n",
    "\n",
    "            # Apply periodic boundary conditions\n",
    "            system.positions = system.positions % system.box_dimensions\n",
    "\n",
    "            # Calculate new forces\n",
    "            system.calculate_bonded_forces()\n",
    "            new_forces = system.forces\n",
    "\n",
    "            # Update velocities\n",
    "            velocities += 0.5 * (forces + new_forces) * dt / masses[:, None]\n",
    "\n",
    "            # Apply Andersen thermostat\n",
    "            collision_prob = 1 - np.exp(-collision_frequency * dt)\n",
    "            collision_mask = np.random.random(n_particles) < collision_prob\n",
    "            velocities[collision_mask] = np.random.normal(0, np.sqrt(temperature), (np.sum(collision_mask), 3))\n",
    "\n",
    "            # Apply Monte Carlo barostat\n",
    "            if i % barostat_frequency == 0:\n",
    "                volume = np.prod(system.box_dimensions)\n",
    "                old_energy = system.potential_energy()\n",
    "                delta_volume = np.random.uniform(-0.1 * volume, 0.1 * volume)\n",
    "                new_volume = volume + delta_volume\n",
    "                scaling_factor = (new_volume / volume) ** (1 / 3)\n",
    "                system.box_dimensions *= scaling_factor\n",
    "                u.dimensions[:3] = system.box_dimensions\n",
    "                system.positions *= scaling_factor\n",
    "                new_energy = system.potential_energy()\n",
    "                delta_energy = new_energy - old_energy\n",
    "                acceptance_probability = np.exp(-delta_energy / temperature) * (new_volume / volume) ** (\n",
    "                            n_particles + 1) * np.exp(-pressure * delta_volume / temperature)\n",
    "                if np.random.random() > acceptance_probability:\n",
    "                    system.box_dimensions /= scaling_factor\n",
    "                    system.positions /= scaling_factor\n",
    "\n",
    "            if i % 100 == 0:\n",
    "                # Record trajectory and energies\n",
    "                penergy, central, bonded, vdw = system.potential_energy(verbose=True)\n",
    "                kenergy = system.kinetic_energy(velocities)\n",
    "                penergy_trajectory.append([penergy, central, bonded, vdw])\n",
    "                kenergy_trajectory.append(kenergy)\n",
    "                protein.atoms.positions = system.positions\n",
    "                W.write(protein)\n",
    "                #instantaneous_pressure = (2 * kenergy - 3 * (kenergy+penergy)) / (3 * volume)\n",
    "                #instantaneous_temperature = (2 * kenergy) / (3 * n_particles * k_B)\n",
    "\n",
    "                if verbose:\n",
    "                    print(f'Iteration: {i}, Potential Energy: {penergy}', end='\\r')\n",
    "\n",
    "        return np.array(kenergy_trajectory), np.array(penergy_trajectory)\n"
   ]
  },
  {
   "cell_type": "code",
   "execution_count": 65,
   "id": "7bf1e150",
   "metadata": {
    "ExecuteTime": {
     "end_time": "2023-06-26T08:38:17.843676Z",
     "start_time": "2023-06-26T08:38:17.834190Z"
    }
   },
   "outputs": [],
   "source": [
    "def write_pdb(system, filename):\n",
    "    with open(filename, 'w') as f:\n",
    "        # Write box dimensions to PDB file\n",
    "        f.write(f\"CRYST1{system.box_dimensions[0]:9.3f}{system.box_dimensions[1]:9.3f\\\n",
    "}{system.box_dimensions[2]:9.3f}  90.00  90.00  90.00 P 1           1\\n\")\n",
    "\n",
    "        # Write particle coordinates to PDB file\n",
    "        atom_index = 1\n",
    "        for cell_index, cell in enumerate(system.cells):\n",
    "            chain_id = chr(cell_index + 65)  # Convert cell index to chain ID (A,B,C,...)\n",
    "\n",
    "            for particle in cell.particles:\n",
    "                x, y, z = particle.position\n",
    "                f.write(f\"HETATM{atom_index:>5}  CA  ALA {chain_id}{atom_index:>4\\\n",
    "}    {x:>8.3f}{y:>8.3f}{z:>8.3f}  1.00 20.00           C  \\n\")\n",
    "                atom_index += 1\n",
    "            f.write(f\"TER\\n\")\n",
    "\n"
   ]
  },
  {
   "cell_type": "code",
   "execution_count": 66,
   "id": "f3211397",
   "metadata": {
    "ExecuteTime": {
     "end_time": "2023-06-26T08:38:19.790843Z",
     "start_time": "2023-06-26T08:38:19.690750Z"
    }
   },
   "outputs": [
    {
     "ename": "TypingError",
     "evalue": "Failed in nopython mode pipeline (step: nopython frontend)\n\u001b[1m\u001b[1mnon-precise type pyobject\u001b[0m\n\u001b[0m\u001b[1mDuring: typing of argument at /tmp/ipykernel_355986/3727326692.py (11)\u001b[0m\n\u001b[1m\nFile \"../../../../tmp/ipykernel_355986/3727326692.py\", line 11:\u001b[0m\n\u001b[1m<source missing, REPL/exec in use?>\u001b[0m \n\nThis error may have been caused by the following argument(s):\n- argument 0: \u001b[1mCannot determine Numba type of <class '__main__.Cell'>\u001b[0m\n",
     "output_type": "error",
     "traceback": [
      "\u001b[0;31m---------------------------------------------------------------------------\u001b[0m",
      "\u001b[0;31mTypingError\u001b[0m                               Traceback (most recent call last)",
      "Cell \u001b[0;32mIn [66], line 13\u001b[0m\n\u001b[1;32m     11\u001b[0m \u001b[38;5;66;03m# Create a system with 8 cells\u001b[39;00m\n\u001b[1;32m     12\u001b[0m n_cells \u001b[38;5;241m=\u001b[39m \u001b[38;5;241m4\u001b[39m\n\u001b[0;32m---> 13\u001b[0m system \u001b[38;5;241m=\u001b[39m \u001b[43mSystem\u001b[49m\u001b[43m(\u001b[49m\u001b[43mn_cells\u001b[49m\u001b[38;5;241;43m=\u001b[39;49m\u001b[43mn_cells\u001b[49m\u001b[43m)\u001b[49m\n\u001b[1;32m     14\u001b[0m write_pdb(system,\u001b[38;5;124mf\u001b[39m\u001b[38;5;124m'\u001b[39m\u001b[38;5;124msystem_\u001b[39m\u001b[38;5;132;01m{\u001b[39;00mn_cells\u001b[38;5;132;01m}\u001b[39;00m\u001b[38;5;124mcells.pdb\u001b[39m\u001b[38;5;124m'\u001b[39m)\n",
      "Cell \u001b[0;32mIn [61], line 21\u001b[0m, in \u001b[0;36mSystem.__init__\u001b[0;34m(self, n_cells, c_type)\u001b[0m\n\u001b[1;32m     18\u001b[0m \u001b[38;5;28mself\u001b[39m\u001b[38;5;241m.\u001b[39mcell_particle_indices \u001b[38;5;241m=\u001b[39m []\n\u001b[1;32m     20\u001b[0m \u001b[38;5;66;03m# Create the system and the simulation box\u001b[39;00m\n\u001b[0;32m---> 21\u001b[0m \u001b[38;5;28;43mself\u001b[39;49m\u001b[38;5;241;43m.\u001b[39;49m\u001b[43mcreate_system\u001b[49m\u001b[43m(\u001b[49m\u001b[43m)\u001b[49m\n\u001b[1;32m     22\u001b[0m \u001b[38;5;28mself\u001b[39m\u001b[38;5;241m.\u001b[39mcreate_box()\n\u001b[1;32m     23\u001b[0m \u001b[38;5;66;03m# Create bonded_neighbor and bonded_central interactions\u001b[39;00m\n",
      "Cell \u001b[0;32mIn [61], line 44\u001b[0m, in \u001b[0;36mSystem.create_system\u001b[0;34m(self)\u001b[0m\n\u001b[1;32m     40\u001b[0m \u001b[38;5;28mself\u001b[39m\u001b[38;5;241m.\u001b[39mcenters_of_mass[\u001b[38;5;28mlen\u001b[39m(\u001b[38;5;28mself\u001b[39m\u001b[38;5;241m.\u001b[39mcells)] \u001b[38;5;241m=\u001b[39m center_of_mass\n\u001b[1;32m     41\u001b[0m cell \u001b[38;5;241m=\u001b[39m Cell(c_type\u001b[38;5;241m=\u001b[39m\u001b[38;5;28mself\u001b[39m\u001b[38;5;241m.\u001b[39mc_type,\n\u001b[1;32m     42\u001b[0m             index \u001b[38;5;241m=\u001b[39m \u001b[38;5;28mlen\u001b[39m(\u001b[38;5;28mself\u001b[39m\u001b[38;5;241m.\u001b[39mcells),\n\u001b[1;32m     43\u001b[0m             center_of_mass\u001b[38;5;241m=\u001b[39mcenter_of_mass)\n\u001b[0;32m---> 44\u001b[0m \u001b[43mcell\u001b[49m\u001b[38;5;241;43m.\u001b[39;49m\u001b[43mcreate_cell\u001b[49m\u001b[43m(\u001b[49m\u001b[43mstart_index\u001b[49m\u001b[43m \u001b[49m\u001b[38;5;241;43m=\u001b[39;49m\u001b[43m \u001b[49m\u001b[38;5;28;43mlen\u001b[39;49m\u001b[43m(\u001b[49m\u001b[38;5;28;43mself\u001b[39;49m\u001b[38;5;241;43m.\u001b[39;49m\u001b[43mcells\u001b[49m\u001b[43m)\u001b[49m\u001b[38;5;241;43m*\u001b[39;49m\u001b[38;5;28;43mself\u001b[39;49m\u001b[38;5;241;43m.\u001b[39;49m\u001b[43mc_type\u001b[49m\u001b[43m[\u001b[49m\u001b[38;5;124;43m'\u001b[39;49m\u001b[38;5;124;43mnum_particles\u001b[39;49m\u001b[38;5;124;43m'\u001b[39;49m\u001b[43m]\u001b[49m\u001b[43m)\u001b[49m\n\u001b[1;32m     45\u001b[0m \u001b[38;5;28mself\u001b[39m\u001b[38;5;241m.\u001b[39mcells\u001b[38;5;241m.\u001b[39mappend(cell)\n\u001b[1;32m     46\u001b[0m \u001b[38;5;28mself\u001b[39m\u001b[38;5;241m.\u001b[39mparticles\u001b[38;5;241m.\u001b[39mextend(cell\u001b[38;5;241m.\u001b[39mparticles)\n",
      "File \u001b[0;32m~/miniconda3/envs/numba/lib/python3.10/site-packages/numba/core/dispatcher.py:468\u001b[0m, in \u001b[0;36m_DispatcherBase._compile_for_args\u001b[0;34m(self, *args, **kws)\u001b[0m\n\u001b[1;32m    464\u001b[0m         msg \u001b[38;5;241m=\u001b[39m (\u001b[38;5;124mf\u001b[39m\u001b[38;5;124m\"\u001b[39m\u001b[38;5;132;01m{\u001b[39;00m\u001b[38;5;28mstr\u001b[39m(e)\u001b[38;5;241m.\u001b[39mrstrip()\u001b[38;5;132;01m}\u001b[39;00m\u001b[38;5;124m \u001b[39m\u001b[38;5;130;01m\\n\u001b[39;00m\u001b[38;5;130;01m\\n\u001b[39;00m\u001b[38;5;124mThis error may have been caused \u001b[39m\u001b[38;5;124m\"\u001b[39m\n\u001b[1;32m    465\u001b[0m                \u001b[38;5;124mf\u001b[39m\u001b[38;5;124m\"\u001b[39m\u001b[38;5;124mby the following argument(s):\u001b[39m\u001b[38;5;130;01m\\n\u001b[39;00m\u001b[38;5;132;01m{\u001b[39;00margs_str\u001b[38;5;132;01m}\u001b[39;00m\u001b[38;5;130;01m\\n\u001b[39;00m\u001b[38;5;124m\"\u001b[39m)\n\u001b[1;32m    466\u001b[0m         e\u001b[38;5;241m.\u001b[39mpatch_message(msg)\n\u001b[0;32m--> 468\u001b[0m     \u001b[43merror_rewrite\u001b[49m\u001b[43m(\u001b[49m\u001b[43me\u001b[49m\u001b[43m,\u001b[49m\u001b[43m \u001b[49m\u001b[38;5;124;43m'\u001b[39;49m\u001b[38;5;124;43mtyping\u001b[39;49m\u001b[38;5;124;43m'\u001b[39;49m\u001b[43m)\u001b[49m\n\u001b[1;32m    469\u001b[0m \u001b[38;5;28;01mexcept\u001b[39;00m errors\u001b[38;5;241m.\u001b[39mUnsupportedError \u001b[38;5;28;01mas\u001b[39;00m e:\n\u001b[1;32m    470\u001b[0m     \u001b[38;5;66;03m# Something unsupported is present in the user code, add help info\u001b[39;00m\n\u001b[1;32m    471\u001b[0m     error_rewrite(e, \u001b[38;5;124m'\u001b[39m\u001b[38;5;124munsupported_error\u001b[39m\u001b[38;5;124m'\u001b[39m)\n",
      "File \u001b[0;32m~/miniconda3/envs/numba/lib/python3.10/site-packages/numba/core/dispatcher.py:409\u001b[0m, in \u001b[0;36m_DispatcherBase._compile_for_args.<locals>.error_rewrite\u001b[0;34m(e, issue_type)\u001b[0m\n\u001b[1;32m    407\u001b[0m     \u001b[38;5;28;01mraise\u001b[39;00m e\n\u001b[1;32m    408\u001b[0m \u001b[38;5;28;01melse\u001b[39;00m:\n\u001b[0;32m--> 409\u001b[0m     \u001b[38;5;28;01mraise\u001b[39;00m e\u001b[38;5;241m.\u001b[39mwith_traceback(\u001b[38;5;28;01mNone\u001b[39;00m)\n",
      "\u001b[0;31mTypingError\u001b[0m: Failed in nopython mode pipeline (step: nopython frontend)\n\u001b[1m\u001b[1mnon-precise type pyobject\u001b[0m\n\u001b[0m\u001b[1mDuring: typing of argument at /tmp/ipykernel_355986/3727326692.py (11)\u001b[0m\n\u001b[1m\nFile \"../../../../tmp/ipykernel_355986/3727326692.py\", line 11:\u001b[0m\n\u001b[1m<source missing, REPL/exec in use?>\u001b[0m \n\nThis error may have been caused by the following argument(s):\n- argument 0: \u001b[1mCannot determine Numba type of <class '__main__.Cell'>\u001b[0m\n"
     ]
    }
   ],
   "source": [
    "\n",
    "\n",
    "# particle itp\n",
    "\n",
    "particle_type = {'base':{'type':'base','knn':0.01,'r_vdw':0.05,'charge':0, 'mass':1}}\n",
    "\n",
    "\n",
    "# cell_itp\n",
    "\n",
    "cell_type = {'base':{'type':'base', 'kc':0.5, 'radius':2, 'num_particles': 100, \\\n",
    "                     'particle_type':'base','n_neighbors':6}}\n",
    "\n",
    "# Create a system with 8 cells\n",
    "n_cells = 4\n",
    "system = System(n_cells=n_cells)\n",
    "write_pdb(system,f'system_{n_cells}cells.pdb')\n",
    "\n"
   ]
  },
  {
   "cell_type": "code",
   "execution_count": 30,
   "id": "335db100",
   "metadata": {
    "ExecuteTime": {
     "end_time": "2023-06-21T18:35:30.627085Z",
     "start_time": "2023-06-21T18:35:30.584912Z"
    }
   },
   "outputs": [
    {
     "data": {
      "text/plain": [
       "(36025.89297257298,\n",
       " 1.7589132996099748e-29,\n",
       " 0.9725372420865276,\n",
       " 36024.920435330896)"
      ]
     },
     "execution_count": 30,
     "metadata": {},
     "output_type": "execute_result"
    }
   ],
   "source": [
    "system.potential_energy(verbose=True)"
   ]
  },
  {
   "cell_type": "code",
   "execution_count": 53,
   "id": "d4c4ad48",
   "metadata": {
    "ExecuteTime": {
     "end_time": "2023-06-21T18:54:30.367618Z",
     "start_time": "2023-06-21T18:54:30.327864Z"
    }
   },
   "outputs": [
    {
     "ename": "TypingError",
     "evalue": "Failed in nopython mode pipeline (step: nopython frontend)\n\u001b[1m\u001b[1mnon-precise type pyobject\u001b[0m\n\u001b[0m\u001b[1mDuring: typing of argument at /tmp/ipykernel_355986/1786975552.py (1)\u001b[0m\n\u001b[1m\nFile \"../../../../tmp/ipykernel_355986/1786975552.py\", line 1:\u001b[0m\n\u001b[1m<source missing, REPL/exec in use?>\u001b[0m \n\nThis error may have been caused by the following argument(s):\n- argument 0: \u001b[1mCannot determine Numba type of <class '__main__.System'>\u001b[0m \n\nThis error may have been caused by the following argument(s):\n- argument 0: \u001b[1mCannot determine Numba type of <class '__main__.System'>\u001b[0m\n",
     "output_type": "error",
     "traceback": [
      "\u001b[0;31m---------------------------------------------------------------------------\u001b[0m",
      "\u001b[0;31mTypingError\u001b[0m                               Traceback (most recent call last)",
      "Cell \u001b[0;32mIn [53], line 1\u001b[0m\n\u001b[0;32m----> 1\u001b[0m energies \u001b[38;5;241m=\u001b[39m \u001b[43mminimize_energy\u001b[49m\u001b[43m(\u001b[49m\u001b[43msystem\u001b[49m\u001b[43m,\u001b[49m\u001b[43mverbose\u001b[49m\u001b[38;5;241;43m=\u001b[39;49m\u001b[38;5;28;43;01mTrue\u001b[39;49;00m\u001b[43m,\u001b[49m\u001b[43m \u001b[49m\u001b[43mn_steps\u001b[49m\u001b[38;5;241;43m=\u001b[39;49m\u001b[43m \u001b[49m\u001b[38;5;241;43m100\u001b[39;49m\u001b[43m)\u001b[49m\n",
      "File \u001b[0;32m~/miniconda3/envs/numba/lib/python3.10/site-packages/numba/core/dispatcher.py:468\u001b[0m, in \u001b[0;36m_DispatcherBase._compile_for_args\u001b[0;34m(self, *args, **kws)\u001b[0m\n\u001b[1;32m    464\u001b[0m         msg \u001b[38;5;241m=\u001b[39m (\u001b[38;5;124mf\u001b[39m\u001b[38;5;124m\"\u001b[39m\u001b[38;5;132;01m{\u001b[39;00m\u001b[38;5;28mstr\u001b[39m(e)\u001b[38;5;241m.\u001b[39mrstrip()\u001b[38;5;132;01m}\u001b[39;00m\u001b[38;5;124m \u001b[39m\u001b[38;5;130;01m\\n\u001b[39;00m\u001b[38;5;130;01m\\n\u001b[39;00m\u001b[38;5;124mThis error may have been caused \u001b[39m\u001b[38;5;124m\"\u001b[39m\n\u001b[1;32m    465\u001b[0m                \u001b[38;5;124mf\u001b[39m\u001b[38;5;124m\"\u001b[39m\u001b[38;5;124mby the following argument(s):\u001b[39m\u001b[38;5;130;01m\\n\u001b[39;00m\u001b[38;5;132;01m{\u001b[39;00margs_str\u001b[38;5;132;01m}\u001b[39;00m\u001b[38;5;130;01m\\n\u001b[39;00m\u001b[38;5;124m\"\u001b[39m)\n\u001b[1;32m    466\u001b[0m         e\u001b[38;5;241m.\u001b[39mpatch_message(msg)\n\u001b[0;32m--> 468\u001b[0m     \u001b[43merror_rewrite\u001b[49m\u001b[43m(\u001b[49m\u001b[43me\u001b[49m\u001b[43m,\u001b[49m\u001b[43m \u001b[49m\u001b[38;5;124;43m'\u001b[39;49m\u001b[38;5;124;43mtyping\u001b[39;49m\u001b[38;5;124;43m'\u001b[39;49m\u001b[43m)\u001b[49m\n\u001b[1;32m    469\u001b[0m \u001b[38;5;28;01mexcept\u001b[39;00m errors\u001b[38;5;241m.\u001b[39mUnsupportedError \u001b[38;5;28;01mas\u001b[39;00m e:\n\u001b[1;32m    470\u001b[0m     \u001b[38;5;66;03m# Something unsupported is present in the user code, add help info\u001b[39;00m\n\u001b[1;32m    471\u001b[0m     error_rewrite(e, \u001b[38;5;124m'\u001b[39m\u001b[38;5;124munsupported_error\u001b[39m\u001b[38;5;124m'\u001b[39m)\n",
      "File \u001b[0;32m~/miniconda3/envs/numba/lib/python3.10/site-packages/numba/core/dispatcher.py:409\u001b[0m, in \u001b[0;36m_DispatcherBase._compile_for_args.<locals>.error_rewrite\u001b[0;34m(e, issue_type)\u001b[0m\n\u001b[1;32m    407\u001b[0m     \u001b[38;5;28;01mraise\u001b[39;00m e\n\u001b[1;32m    408\u001b[0m \u001b[38;5;28;01melse\u001b[39;00m:\n\u001b[0;32m--> 409\u001b[0m     \u001b[38;5;28;01mraise\u001b[39;00m e\u001b[38;5;241m.\u001b[39mwith_traceback(\u001b[38;5;28;01mNone\u001b[39;00m)\n",
      "\u001b[0;31mTypingError\u001b[0m: Failed in nopython mode pipeline (step: nopython frontend)\n\u001b[1m\u001b[1mnon-precise type pyobject\u001b[0m\n\u001b[0m\u001b[1mDuring: typing of argument at /tmp/ipykernel_355986/1786975552.py (1)\u001b[0m\n\u001b[1m\nFile \"../../../../tmp/ipykernel_355986/1786975552.py\", line 1:\u001b[0m\n\u001b[1m<source missing, REPL/exec in use?>\u001b[0m \n\nThis error may have been caused by the following argument(s):\n- argument 0: \u001b[1mCannot determine Numba type of <class '__main__.System'>\u001b[0m \n\nThis error may have been caused by the following argument(s):\n- argument 0: \u001b[1mCannot determine Numba type of <class '__main__.System'>\u001b[0m\n"
     ]
    }
   ],
   "source": [
    "energies = minimize_energy(system,verbose=True, n_steps= 100)"
   ]
  },
  {
   "cell_type": "code",
   "execution_count": 32,
   "id": "36c6197a",
   "metadata": {
    "ExecuteTime": {
     "end_time": "2023-06-21T18:35:39.276976Z",
     "start_time": "2023-06-21T18:35:39.172423Z"
    }
   },
   "outputs": [
    {
     "data": {
      "text/plain": [
       "[<matplotlib.lines.Line2D at 0x7f40a201c670>]"
      ]
     },
     "execution_count": 32,
     "metadata": {},
     "output_type": "execute_result"
    },
    {
     "data": {
      "image/png": "[encoded data removed]",
      "text/plain": [
       "<Figure size 640x480 with 1 Axes>"
      ]
     },
     "metadata": {},
     "output_type": "display_data"
    }
   ],
   "source": [
    "plt.plot(energies)"
   ]
  },
  {
   "cell_type": "code",
   "execution_count": 33,
   "id": "3f88b633",
   "metadata": {
    "ExecuteTime": {
     "end_time": "2023-06-21T18:35:42.004885Z",
     "start_time": "2023-06-21T18:35:41.992333Z"
    }
   },
   "outputs": [],
   "source": [
    "write_pdb(system,f'system_{system.n_cells}cells_min.pdb')"
   ]
  },
  {
   "cell_type": "code",
   "execution_count": 34,
   "id": "47203eac",
   "metadata": {
    "ExecuteTime": {
     "end_time": "2023-06-21T18:35:43.327885Z",
     "start_time": "2023-06-21T18:35:43.280479Z"
    }
   },
   "outputs": [
    {
     "ename": "UnsupportedError",
     "evalue": "Failed in object mode pipeline (step: analyzing bytecode)\n\u001b[1mThe 'with (context manager) as (variable):' construct is not supported.\u001b[0m",
     "output_type": "error",
     "traceback": [
      "\u001b[0;31m---------------------------------------------------------------------------\u001b[0m",
      "\u001b[0;31mUnsupportedError\u001b[0m                          Traceback (most recent call last)",
      "Cell \u001b[0;32mIn [34], line 1\u001b[0m\n\u001b[0;32m----> 1\u001b[0m ke, pe \u001b[38;5;241m=\u001b[39m \u001b[43msimulate_dynamics\u001b[49m\u001b[43m(\u001b[49m\u001b[43msystem\u001b[49m\u001b[43m,\u001b[49m\u001b[43mn_steps\u001b[49m\u001b[43m \u001b[49m\u001b[38;5;241;43m=\u001b[39;49m\u001b[43m \u001b[49m\u001b[38;5;241;43m1000\u001b[39;49m\u001b[43m,\u001b[49m\u001b[43m \u001b[49m\u001b[43mverbose\u001b[49m\u001b[38;5;241;43m=\u001b[39;49m\u001b[38;5;28;43;01mTrue\u001b[39;49;00m\u001b[43m,\u001b[49m\u001b[43m \u001b[49m\u001b[43mdt\u001b[49m\u001b[43m \u001b[49m\u001b[38;5;241;43m=\u001b[39;49m\u001b[43m \u001b[49m\u001b[38;5;241;43m0.001\u001b[39;49m\u001b[43m,\u001b[49m\u001b[43m \u001b[49m\u001b[43m\\\u001b[49m\n\u001b[1;32m      2\u001b[0m \u001b[43m                                 \u001b[49m\u001b[43mtemperature\u001b[49m\u001b[43m \u001b[49m\u001b[38;5;241;43m=\u001b[39;49m\u001b[43m \u001b[49m\u001b[38;5;241;43m0.01\u001b[39;49m\u001b[43m,\u001b[49m\u001b[43m \u001b[49m\u001b[43minitial_velocities\u001b[49m\u001b[38;5;241;43m=\u001b[39;49m\u001b[38;5;124;43m'\u001b[39;49m\u001b[38;5;124;43mMB\u001b[39;49m\u001b[38;5;124;43m'\u001b[39;49m\u001b[43m,\u001b[49m\u001b[43m \u001b[49m\u001b[43m\\\u001b[49m\n\u001b[1;32m      3\u001b[0m \u001b[43m                           \u001b[49m\u001b[43mout_trj\u001b[49m\u001b[43m \u001b[49m\u001b[38;5;241;43m=\u001b[39;49m\u001b[43m \u001b[49m\u001b[38;5;124;43mf\u001b[39;49m\u001b[38;5;124;43m'\u001b[39;49m\u001b[38;5;124;43msystem_\u001b[39;49m\u001b[38;5;132;43;01m{\u001b[39;49;00m\u001b[43msystem\u001b[49m\u001b[38;5;241;43m.\u001b[39;49m\u001b[43mn_cells\u001b[49m\u001b[38;5;132;43;01m}\u001b[39;49;00m\u001b[38;5;124;43mcells_nve_eq.xtc\u001b[39;49m\u001b[38;5;124;43m'\u001b[39;49m\u001b[43m)\u001b[49m\n",
      "File \u001b[0;32m~/miniconda3/envs/numba/lib/python3.10/site-packages/numba/core/dispatcher.py:471\u001b[0m, in \u001b[0;36m_DispatcherBase._compile_for_args\u001b[0;34m(self, *args, **kws)\u001b[0m\n\u001b[1;32m    468\u001b[0m     error_rewrite(e, \u001b[38;5;124m'\u001b[39m\u001b[38;5;124mtyping\u001b[39m\u001b[38;5;124m'\u001b[39m)\n\u001b[1;32m    469\u001b[0m \u001b[38;5;28;01mexcept\u001b[39;00m errors\u001b[38;5;241m.\u001b[39mUnsupportedError \u001b[38;5;28;01mas\u001b[39;00m e:\n\u001b[1;32m    470\u001b[0m     \u001b[38;5;66;03m# Something unsupported is present in the user code, add help info\u001b[39;00m\n\u001b[0;32m--> 471\u001b[0m     \u001b[43merror_rewrite\u001b[49m\u001b[43m(\u001b[49m\u001b[43me\u001b[49m\u001b[43m,\u001b[49m\u001b[43m \u001b[49m\u001b[38;5;124;43m'\u001b[39;49m\u001b[38;5;124;43munsupported_error\u001b[39;49m\u001b[38;5;124;43m'\u001b[39;49m\u001b[43m)\u001b[49m\n\u001b[1;32m    472\u001b[0m \u001b[38;5;28;01mexcept\u001b[39;00m (errors\u001b[38;5;241m.\u001b[39mNotDefinedError, errors\u001b[38;5;241m.\u001b[39mRedefinedError,\n\u001b[1;32m    473\u001b[0m         errors\u001b[38;5;241m.\u001b[39mVerificationError) \u001b[38;5;28;01mas\u001b[39;00m e:\n\u001b[1;32m    474\u001b[0m     \u001b[38;5;66;03m# These errors are probably from an issue with either the code\u001b[39;00m\n\u001b[1;32m    475\u001b[0m     \u001b[38;5;66;03m# supplied being syntactically or otherwise invalid\u001b[39;00m\n\u001b[1;32m    476\u001b[0m     error_rewrite(e, \u001b[38;5;124m'\u001b[39m\u001b[38;5;124minterpreter\u001b[39m\u001b[38;5;124m'\u001b[39m)\n",
      "File \u001b[0;32m~/miniconda3/envs/numba/lib/python3.10/site-packages/numba/core/dispatcher.py:409\u001b[0m, in \u001b[0;36m_DispatcherBase._compile_for_args.<locals>.error_rewrite\u001b[0;34m(e, issue_type)\u001b[0m\n\u001b[1;32m    407\u001b[0m     \u001b[38;5;28;01mraise\u001b[39;00m e\n\u001b[1;32m    408\u001b[0m \u001b[38;5;28;01melse\u001b[39;00m:\n\u001b[0;32m--> 409\u001b[0m     \u001b[38;5;28;01mraise\u001b[39;00m e\u001b[38;5;241m.\u001b[39mwith_traceback(\u001b[38;5;28;01mNone\u001b[39;00m)\n",
      "\u001b[0;31mUnsupportedError\u001b[0m: Failed in object mode pipeline (step: analyzing bytecode)\n\u001b[1mThe 'with (context manager) as (variable):' construct is not supported.\u001b[0m"
     ]
    }
   ],
   "source": [
    "\n",
    "\n",
    "ke, pe = simulate_dynamics(system,n_steps = 1000, verbose=True, dt = 0.001, \\\n",
    "                                 temperature = 0.01, initial_velocities='MB', \\\n",
    "                           out_trj = f'system_{system.n_cells}cells_nve_eq.xtc')\n",
    "#\n",
    "#\n",
    "\n"
   ]
  },
  {
   "cell_type": "code",
   "execution_count": null,
   "id": "1ff7a94e",
   "metadata": {},
   "outputs": [],
   "source": [
    "\n",
    "\n",
    "plt.plot(pe[:,0], label = 'Total PE')\n",
    "plt.plot(ke, label = 'Total KE')\n",
    "plt.legend()\n",
    "\n"
   ]
  },
  {
   "cell_type": "code",
   "execution_count": null,
   "id": "029e8711",
   "metadata": {},
   "outputs": [],
   "source": [
    "plt.plot(ke)\n",
    "plt.plot((pe[:,0]+ke))"
   ]
  },
  {
   "cell_type": "code",
   "execution_count": null,
   "id": "56a6bc3f",
   "metadata": {},
   "outputs": [],
   "source": [
    "\n",
    "\n",
    "ke, pe = simulate_nvt_dynamics(system,n_steps = 1000, verbose=True, dt = 0.01, \\\n",
    "                                 temperature = 0.01, initial_velocities='MB', \\\n",
    "                           out_trj = f'system_{system.n_cells}cells_nvt_prod.xtc')\n",
    "#\n",
    "#\n",
    "\n"
   ]
  },
  {
   "cell_type": "code",
   "execution_count": null,
   "id": "c43c44d1",
   "metadata": {},
   "outputs": [],
   "source": [
    "plt.plot(pe[:,1], label = 'Central PE')\n",
    "plt.plot(pe[:,2], label = 'Bonded PE')\n",
    "plt.plot(pe[:,3], label = 'VdW PE')\n",
    "plt.legend()\n"
   ]
  },
  {
   "cell_type": "code",
   "execution_count": null,
   "id": "d13a6078",
   "metadata": {},
   "outputs": [],
   "source": [
    "plt.plot(ke)\n",
    "plt.plot((pe[:,0]+ke))"
   ]
  },
  {
   "cell_type": "code",
   "execution_count": null,
   "id": "12cfaf82",
   "metadata": {},
   "outputs": [],
   "source": [
    "\n",
    "\n",
    "ke, pe = simulate_npt_dynamics(system,n_steps = 100000, verbose=True, dt = 0.1, \\\n",
    "                                 temperature = 0.01, pressure= 0.04, initial_velocities='MB', \\\n",
    "                           out_trj = f'system_{system.n_cells}cells_npt_prod.xtc')\n",
    "#\n",
    "#\n",
    "\n"
   ]
  },
  {
   "cell_type": "code",
   "execution_count": null,
   "id": "16dddd3c",
   "metadata": {},
   "outputs": [],
   "source": [
    "\n",
    "\n",
    "plt.plot(pe[:,1], label = 'Central PE')\n",
    "plt.plot(pe[:,2], label = 'Bonded PE')\n",
    "plt.plot(pe[:,3], label = 'VdW PE')\n",
    "plt.legend()\n",
    "\n"
   ]
  },
  {
   "cell_type": "code",
   "execution_count": null,
   "id": "8441bdb4",
   "metadata": {},
   "outputs": [],
   "source": [
    "plt.plot(ke)\n",
    "plt.plot((pe[:,0]+ke))\n"
   ]
  }
 ],
 "metadata": {
  "kernelspec": {
   "display_name": "Python [conda env:numba]",
   "language": "python",
   "name": "conda-env-numba-py"
  },
  "language_info": {
   "codemirror_mode": {
    "name": "ipython",
    "version": 3
   },
   "file_extension": ".py",
   "mimetype": "text/x-python",
   "name": "python",
   "nbconvert_exporter": "python",
   "pygments_lexer": "ipython3",
   "version": "3.10.11"
  }
 },
 "nbformat": 4,
 "nbformat_minor": 5
}
